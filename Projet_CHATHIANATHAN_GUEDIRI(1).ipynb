{
  "nbformat": 4,
  "nbformat_minor": 0,
  "metadata": {
    "colab": {
      "name": "Projet_CHATHIANATHAN_GUEDIRI.ipynb",
      "provenance": [],
      "collapsed_sections": []
    },
    "kernelspec": {
      "name": "python3",
      "display_name": "Python 3"
    },
    "language_info": {
      "name": "python"
    }
  },
  "cells": [
    {
      "cell_type": "markdown",
      "metadata": {
        "id": "XBkYrmvPNYIO"
      },
      "source": [
        "# **Présentation du projet**\n",
        "\n",
        "Notre sujet repose sur le classement des équipes de football de l'année 2020-2021, elle comprend les cinq  championnats principaux : English Premier League, French Ligue 1, German Bundesliga, Italian Seria A et Spanish La Liga. \n",
        "\n",
        "Pour réaliser des test statistique, nous  avons sélectionné un dataset de footbnall sur Kaggle : https://www.kaggle.com/varpit94/football-teams-rankings-stats\n",
        "\n",
        "Le dataset comprend 98 lignes et plusieurs colonnes dont :     \n",
        "\n",
        "\n",
        "Team - Nom de l'équipe\n",
        "Tournament - Nom du championnat\n",
        "Goals - Nombre de buts marqués dans le tournoi en 2020-2021\n",
        "Shots pg - Nombre de tirs par match\n",
        "Yellow_cards - Nombre de cartons jaunes donnés dans le tournoi en 2020-2021\n",
        "Red_cards - Nombre de cartons rouges donnés dans le tournoi en 2020-2021\n",
        "Possession% - Pourcentage de possession de balle.\n",
        "Pass% - Pourcentage de passes\n",
        "Aerials won - Duels aériens gagnés par match. \n",
        "Rating - Classement général de l'équipe\n",
        "\n",
        "Dans un premier temps nous allons nettoyer les donnés afin de se débarrasser  des données que nous allons pas utiliser, puis aborder deux problématiques pour lesquelle nous répondrons à partir de différents tests.\n",
        "\n",
        "Problématique 1 :  Existe-il un lien entre le nombre de buts marqués et tous les autres paramètres ? \n",
        "\n",
        "Problématique 2 : Le pourcentage de passe réussi  a t-elle une influence sur le pourcentage de possession de balles ?\n",
        "\n",
        "\n",
        "\n",
        "\n"
      ]
    },
    {
      "cell_type": "markdown",
      "metadata": {
        "id": "9YwSD_57wpNK"
      },
      "source": [
        "#  **Nettoyage de donnnées**\n",
        "\n",
        "---\n",
        "\n"
      ]
    },
    {
      "cell_type": "code",
      "metadata": {
        "colab": {
          "base_uri": "https://localhost:8080/"
        },
        "id": "H8OlbKMS1lex",
        "outputId": "03a1a16e-7221-4226-a0e2-5e9d8b055ed5"
      },
      "source": [
        "from google.colab import drive\n",
        "drive.mount('/gdrive')\n",
        "%cd /gdrive"
      ],
      "execution_count": 1,
      "outputs": [
        {
          "output_type": "stream",
          "name": "stdout",
          "text": [
            "Drive already mounted at /gdrive; to attempt to forcibly remount, call drive.mount(\"/gdrive\", force_remount=True).\n",
            "/gdrive\n"
          ]
        }
      ]
    },
    {
      "cell_type": "code",
      "metadata": {
        "colab": {
          "base_uri": "https://localhost:8080/"
        },
        "id": "Xhjz9blD2ACJ",
        "outputId": "824d8bf0-69b3-4e81-e9b3-3439ee1e13fc"
      },
      "source": [
        "!ls MyDrive/ProjetEstimation/"
      ],
      "execution_count": 2,
      "outputs": [
        {
          "output_type": "stream",
          "name": "stdout",
          "text": [
            " Data.csv\t\t\t      'Rapport_Analyse de données.pdf'\n",
            "'Football teams.csv'\t\t       script.r\n",
            " Projet_CHATHIANATHAN_GUEDIRI.ipynb    tableau.csv\n",
            "'PROJET CHATHIANATHAN GUEDIRI.ipynb'\n"
          ]
        }
      ]
    },
    {
      "cell_type": "code",
      "metadata": {
        "id": "ilP7BL1V2bxw"
      },
      "source": [
        "%load_ext rpy2.ipython\n"
      ],
      "execution_count": 3,
      "outputs": []
    },
    {
      "cell_type": "code",
      "metadata": {
        "id": "PQruBZ3o2enW"
      },
      "source": [
        "#Import de la librairie panda\n",
        "import pandas"
      ],
      "execution_count": 4,
      "outputs": []
    },
    {
      "cell_type": "code",
      "metadata": {
        "id": "HlHuTXmr7RXJ",
        "colab": {
          "base_uri": "https://localhost:8080/"
        },
        "outputId": "cb29b9cb-20e9-45d6-a96a-ffc298a39e94"
      },
      "source": [
        "#Importer des librairies \n",
        "%%R\n",
        "library(ggplot2)\n",
        "library(dplyr)"
      ],
      "execution_count": 5,
      "outputs": [
        {
          "output_type": "stream",
          "name": "stderr",
          "text": [
            "R[write to console]: \n",
            "Attaching package: ‘dplyr’\n",
            "\n",
            "\n",
            "R[write to console]: The following objects are masked from ‘package:stats’:\n",
            "\n",
            "    filter, lag\n",
            "\n",
            "\n",
            "R[write to console]: The following objects are masked from ‘package:base’:\n",
            "\n",
            "    intersect, setdiff, setequal, union\n",
            "\n",
            "\n"
          ]
        }
      ]
    },
    {
      "cell_type": "code",
      "metadata": {
        "id": "R0K51h2v2gyh"
      },
      "source": [
        "%%R\n",
        "dataset <- read.csv(file = 'MyDrive/ProjetEstimation/Football teams.csv')"
      ],
      "execution_count": 6,
      "outputs": []
    },
    {
      "cell_type": "code",
      "metadata": {
        "colab": {
          "base_uri": "https://localhost:8080/"
        },
        "id": "YkYiTFIX76C8",
        "outputId": "f7c290ec-a54e-4dab-cef3-58abd3bc342f"
      },
      "source": [
        "#Nom des colonnes\n",
        "%%R\n",
        "colnames(dataset)"
      ],
      "execution_count": 7,
      "outputs": [
        {
          "output_type": "stream",
          "name": "stdout",
          "text": [
            " [1] \"Team\"         \"Tournament\"   \"Goals\"        \"Shots.pg\"     \"yellow_cards\"\n",
            " [6] \"red_cards\"    \"Possession.\"  \"Pass.\"        \"AerialsWon\"   \"Rating\"      \n"
          ]
        }
      ]
    },
    {
      "cell_type": "code",
      "metadata": {
        "colab": {
          "base_uri": "https://localhost:8080/"
        },
        "id": "cuEqtfJH2sFe",
        "outputId": "958209b6-79e3-4080-ae8d-9a514b9d517e"
      },
      "source": [
        "#Affichage des données du dataset\n",
        "%%R\n",
        "print(dataset)"
      ],
      "execution_count": 8,
      "outputs": [
        {
          "output_type": "stream",
          "name": "stdout",
          "text": [
            "                      Team     Tournament Goals Shots.pg yellow_cards red_cards\n",
            "1          Manchester City Premier League    83     15.8           46         2\n",
            "2            Bayern Munich     Bundesliga    99     17.1           44         3\n",
            "3      Paris Saint-Germain        Ligue 1    86     15.0           73         7\n",
            "4                Barcelona         LaLiga    85     15.3           68         2\n",
            "5              Real Madrid         LaLiga    67     14.4           57         2\n",
            "6        Manchester United Premier League    73     13.8           64         1\n",
            "7                 Juventus        Serie A    77     15.7           76         6\n",
            "8              Aston Villa Premier League    55     13.7           63         4\n",
            "9        Borussia Dortmund     Bundesliga    75     14.6           43         1\n",
            "10         Atletico Madrid         LaLiga    67     12.1          100         0\n",
            "11                Atalanta        Serie A    90     16.3           66         3\n",
            "12                 Chelsea Premier League    58     14.6           49         3\n",
            "13               Liverpool Premier League    68     16.0           40         0\n",
            "14                AC Milan        Serie A    74     14.7           80         4\n",
            "15                   Lille        Ligue 1    64     12.8           67         2\n",
            "16               Tottenham Premier League    68     11.7           53         2\n",
            "17                  Napoli        Serie A    86     17.0           71         3\n",
            "18               Leicester Premier League    68     12.8           61         0\n",
            "19               Wolfsburg     Bundesliga    61     14.1           56         3\n",
            "20                   Inter        Serie A    89     14.5           59         2\n",
            "21                    Lyon        Ligue 1    81     16.1           60        10\n",
            "22              RB Leipzig     Bundesliga    60     16.0           57         0\n",
            "23                   Leeds Premier League    62     13.7           61         1\n",
            "24                West Ham Premier League    62     12.3           48         3\n",
            "25                 Everton Premier League    47     10.5           59         2\n",
            "26        Bayer Leverkusen     Bundesliga    53     13.0           58         0\n",
            "27     Eintracht Frankfurt     Bundesliga    69     13.2           80         1\n",
            "28                  Monaco        Ligue 1    76     12.8           74         7\n",
            "29                    Roma        Serie A    68     14.3           84         3\n",
            "30                 Sevilla         LaLiga    53     12.1           75         2\n",
            "31     Borussia M.Gladbach     Bundesliga    64     13.4           61         2\n",
            "32                 Arsenal Premier League    55     12.1           47         5\n",
            "33                  Rennes        Ligue 1    52     13.5           80         5\n",
            "34           VfB Stuttgart     Bundesliga    56     13.4           63         2\n",
            "35 Wolverhampton Wanderers Premier League    36     12.2           53         1\n",
            "36                Sassuolo        Serie A    64     13.9           74         4\n",
            "37                    Metz        Ligue 1    44     11.5           82         4\n",
            "38              Villarreal         LaLiga    60     10.7           65         5\n",
            "39           Real Sociedad         LaLiga    59     11.3           81         1\n",
            "40                Brighton Premier League    40     12.8           45         6\n",
            "41              Real Betis         LaLiga    50     11.7           87         8\n",
            "42                 Burnley Premier League    33     10.1           48         0\n",
            "43                    Lens        Ligue 1    55     11.7           84         7\n",
            "44                   Brest        Ligue 1    50     11.8           60         4\n",
            "45                  Fulham Premier League    27     11.6           67         3\n",
            "46               Marseille        Ligue 1    54     10.0           94         9\n",
            "47               Sampdoria        Serie A    52     11.3           81         3\n",
            "48             Montpellier        Ligue 1    60     12.2           65         7\n",
            "49                    Nice        Ligue 1    50     10.8           69         4\n",
            "50              Hoffenheim     Bundesliga    52     12.6           65         4\n",
            "51             Southampton Premier League    47     11.2           52         3\n",
            "52        Newcastle United Premier League    46     10.4           61         3\n",
            "53                   Lazio        Serie A    61     13.8          100         5\n",
            "54                  Nantes        Ligue 1    47     10.8           68         4\n",
            "55            Union Berlin     Bundesliga    50     11.7           55         2\n",
            "56              Strasbourg        Ligue 1    49     11.3           56         3\n",
            "57          Crystal Palace Premier League    41      9.2           54         2\n",
            "58                Freiburg     Bundesliga    52     11.4           63         0\n",
            "59                Valencia         LaLiga    50     10.3           77         5\n",
            "60              Celta Vigo         LaLiga    55      9.4          104         5\n",
            "61                   Reims        Ligue 1    42      9.6           75         8\n",
            "62                  Torino        Serie A    50     12.2           72         4\n",
            "63                  Verona        Serie A    43     10.6           91         1\n",
            "64           Saint-Etienne        Ligue 1    42     11.6           76         2\n",
            "65                Bordeaux        Ligue 1    42     11.1           74         4\n",
            "66           Hertha Berlin     Bundesliga    41     11.3           63         3\n",
            "67                Cagliari        Serie A    43     11.4           73         3\n",
            "68                Mainz 05     Bundesliga    39     11.1           61         1\n",
            "69                 Bologna        Serie A    51     13.1           78         4\n",
            "70                Augsburg     Bundesliga    36      9.9           65         4\n",
            "71                 Udinese        Serie A    42     10.9           63         2\n",
            "72               SD Huesca         LaLiga    34     10.7           68         2\n",
            "73         Athletic Bilbao         LaLiga    46     10.6           81         3\n",
            "74                 Osasuna         LaLiga    37      9.8           74         5\n",
            "75                 Lorient        Ligue 1    50     11.2           67         3\n",
            "76                   Genoa        Serie A    47      9.0           85         2\n",
            "77       Arminia Bielefeld     Bundesliga    26      9.8           52         1\n",
            "78                  Angers        Ligue 1    40     10.7           63         2\n",
            "79                   Eibar         LaLiga    29     11.9           67         3\n",
            "80           Werder Bremen     Bundesliga    36     10.6           63         3\n",
            "81              Fiorentina        Serie A    47      9.8           86         5\n",
            "82                   Nimes        Ligue 1    40     10.3           57         5\n",
            "83    West Bromwich Albion Premier League    35      8.9           51         4\n",
            "84                 FC Koln     Bundesliga    34     10.6           62         1\n",
            "85        Deportivo Alaves         LaLiga    36      9.1           87         8\n",
            "86                 Levante         LaLiga    46     10.1           70         1\n",
            "87                  Spezia        Serie A    52     10.2           92         5\n",
            "88                  Getafe         LaLiga    28      9.5          117         7\n",
            "89       Parma Calcio 1913        Serie A    39     10.4           91         1\n",
            "90                   Elche         LaLiga    34      7.1           95         3\n",
            "91                 Granada         LaLiga    47      9.4           96         6\n",
            "92                   Cadiz         LaLiga    36      8.0           77         3\n",
            "93         Real Valladolid         LaLiga    34      9.7           93         4\n",
            "94        Sheffield United Premier League    20      8.5           73         3\n",
            "95                 Crotone        Serie A    45      9.5           85         4\n",
            "96               Benevento        Serie A    40     11.0           90         5\n",
            "97                   Dijon        Ligue 1    25      9.2           75         5\n",
            "98              Schalke 04     Bundesliga    25      8.9           70         2\n",
            "   Possession. Pass. AerialsWon Rating\n",
            "1         60.8  89.4       12.8   7.01\n",
            "2         58.1  85.5       12.9   6.95\n",
            "3         60.1  89.5        9.5   6.88\n",
            "4         62.4  89.7       10.6   6.87\n",
            "5         57.7  87.7       11.8   6.86\n",
            "6         54.5  84.8       14.5   6.85\n",
            "7         55.4  88.3       11.4   6.85\n",
            "8         49.1  78.6       19.4   6.84\n",
            "9         57.5  85.5       12.8   6.84\n",
            "10        51.8  83.1       14.4   6.84\n",
            "11        53.5  83.5       16.8   6.84\n",
            "12        58.6  87.0       15.2   6.83\n",
            "13        59.0  85.7       14.3   6.82\n",
            "14        51.4  84.0       15.2   6.82\n",
            "15        52.6  83.5       15.8   6.82\n",
            "16        51.3  81.8       16.4   6.81\n",
            "17        54.1  87.0       11.1   6.81\n",
            "18        53.2  82.1       16.2   6.80\n",
            "19        51.0  78.0       16.9   6.80\n",
            "20        52.0  87.0       11.8   6.80\n",
            "21        53.6  84.7       14.3   6.80\n",
            "22        57.3  83.2       18.6   6.78\n",
            "23        55.1  80.8       14.5   6.77\n",
            "24        44.5  77.8       19.9   6.77\n",
            "25        47.3  81.4       17.7   6.73\n",
            "26        57.3  84.4       13.1   6.73\n",
            "27        52.4  79.6       17.9   6.73\n",
            "28        54.2  82.7       16.5   6.73\n",
            "29        51.5  84.5       12.1   6.71\n",
            "30        58.7  86.2       16.6   6.70\n",
            "31        51.5  82.0       15.3   6.70\n",
            "32        52.7  85.0       13.5   6.69\n",
            "33        56.8  85.6       16.9   6.69\n",
            "34        51.5  81.1       16.3   6.68\n",
            "35        49.7  83.2       15.3   6.67\n",
            "36        58.2  87.8       10.9   6.67\n",
            "37        46.9  79.8       16.1   6.66\n",
            "38        54.3  84.4       13.0   6.66\n",
            "39        53.7  80.8       17.9   6.65\n",
            "40        50.7  81.3       14.2   6.65\n",
            "41        52.9  82.0       16.4   6.64\n",
            "42        43.5  71.6       23.4   6.64\n",
            "43        51.1  81.8       17.4   6.64\n",
            "44        49.4  81.3       18.6   6.64\n",
            "45        50.0  81.2       17.2   6.63\n",
            "46        52.4  82.0       14.9   6.63\n",
            "47        46.1  78.5       16.8   6.63\n",
            "48        46.4  78.8       17.9   6.63\n",
            "49        53.4  85.6       10.5   6.63\n",
            "50        50.8  80.7       15.7   6.63\n",
            "51        51.4  79.3       14.1   6.62\n",
            "52        41.6  76.0       17.1   6.62\n",
            "53        52.2  83.8       14.6   6.62\n",
            "54        45.2  77.0       18.1   6.62\n",
            "55        45.9  76.2       17.6   6.62\n",
            "56        46.5  78.3       18.3   6.61\n",
            "57        42.9  76.1       18.3   6.61\n",
            "58        47.5  78.1       17.5   6.60\n",
            "59        47.9  79.4       16.3   6.60\n",
            "60        52.0  79.9       16.5   6.60\n",
            "61        46.3  80.7       13.4   6.60\n",
            "62        48.0  80.5       16.1   6.59\n",
            "63        49.6  76.3       20.6   6.59\n",
            "64        49.0  79.3       16.4   6.59\n",
            "65        50.2  83.3       15.4   6.59\n",
            "66        49.8  79.5       15.8   6.58\n",
            "67        45.8  79.8       17.2   6.58\n",
            "68        42.7  71.3       18.3   6.57\n",
            "69        50.7  81.5       15.1   6.56\n",
            "70        44.0  73.6       16.8   6.56\n",
            "71        47.2  82.5       13.1   6.55\n",
            "72        48.7  79.8       15.7   6.55\n",
            "73        49.4  78.5       17.9   6.54\n",
            "74        44.6  70.2       26.8   6.54\n",
            "75        45.9  78.8       13.7   6.54\n",
            "76        46.1  79.7       13.7   6.54\n",
            "77        44.1  74.6       22.2   6.53\n",
            "78        47.1  81.3       13.2   6.53\n",
            "79        49.2  72.6       24.4   6.53\n",
            "80        45.2  76.2       18.3   6.52\n",
            "81        46.8  81.0       14.2   6.52\n",
            "82        45.8  77.5       14.0   6.52\n",
            "83        41.0  72.2       19.1   6.51\n",
            "84        47.1  77.3       18.5   6.51\n",
            "85        44.6  72.9       22.6   6.50\n",
            "86        51.5  80.1       12.2   6.50\n",
            "87        51.6  81.1       14.4   6.50\n",
            "88        44.4  66.5       22.8   6.49\n",
            "89        48.4  82.5       16.9   6.49\n",
            "90        48.1  81.5       13.2   6.48\n",
            "91        43.4  70.0       18.3   6.47\n",
            "92        38.5  68.8       18.5   6.47\n",
            "93        46.2  74.8       17.1   6.46\n",
            "94        43.0  76.9       19.1   6.46\n",
            "95        47.2  80.4       12.7   6.43\n",
            "96        44.2  77.7       13.4   6.43\n",
            "97        46.9  80.0       14.3   6.42\n",
            "98        46.2  76.5       15.6   6.41\n"
          ]
        }
      ]
    },
    {
      "cell_type": "code",
      "metadata": {
        "id": "oIPXvfx_2xHU"
      },
      "source": [
        "#Copie du dataset en un data.frame\n",
        "%%R\n",
        "df <- data.frame(dataset)"
      ],
      "execution_count": 9,
      "outputs": []
    },
    {
      "cell_type": "code",
      "metadata": {
        "id": "dZ3EW9ha6y-Q"
      },
      "source": [
        "#Ici on retire les colonnes qui nous intéressent pas, c'est-à-dire, 'yellow_cards, red_cards, AerialsWon'\n",
        "%%R\n",
        "df <- subset( df, select = -c(yellow_cards, red_cards, AerialsWon))"
      ],
      "execution_count": 10,
      "outputs": []
    },
    {
      "cell_type": "code",
      "metadata": {
        "colab": {
          "base_uri": "https://localhost:8080/"
        },
        "id": "jJbH2p3Y7VW4",
        "outputId": "98bcd281-7aaa-406c-8295-fbac99142ef4"
      },
      "source": [
        "#Affichage du data.frame df\n",
        "%%R\n",
        "df"
      ],
      "execution_count": 11,
      "outputs": [
        {
          "output_type": "stream",
          "name": "stdout",
          "text": [
            "                      Team     Tournament Goals Shots.pg Possession. Pass.\n",
            "1          Manchester City Premier League    83     15.8        60.8  89.4\n",
            "2            Bayern Munich     Bundesliga    99     17.1        58.1  85.5\n",
            "3      Paris Saint-Germain        Ligue 1    86     15.0        60.1  89.5\n",
            "4                Barcelona         LaLiga    85     15.3        62.4  89.7\n",
            "5              Real Madrid         LaLiga    67     14.4        57.7  87.7\n",
            "6        Manchester United Premier League    73     13.8        54.5  84.8\n",
            "7                 Juventus        Serie A    77     15.7        55.4  88.3\n",
            "8              Aston Villa Premier League    55     13.7        49.1  78.6\n",
            "9        Borussia Dortmund     Bundesliga    75     14.6        57.5  85.5\n",
            "10         Atletico Madrid         LaLiga    67     12.1        51.8  83.1\n",
            "11                Atalanta        Serie A    90     16.3        53.5  83.5\n",
            "12                 Chelsea Premier League    58     14.6        58.6  87.0\n",
            "13               Liverpool Premier League    68     16.0        59.0  85.7\n",
            "14                AC Milan        Serie A    74     14.7        51.4  84.0\n",
            "15                   Lille        Ligue 1    64     12.8        52.6  83.5\n",
            "16               Tottenham Premier League    68     11.7        51.3  81.8\n",
            "17                  Napoli        Serie A    86     17.0        54.1  87.0\n",
            "18               Leicester Premier League    68     12.8        53.2  82.1\n",
            "19               Wolfsburg     Bundesliga    61     14.1        51.0  78.0\n",
            "20                   Inter        Serie A    89     14.5        52.0  87.0\n",
            "21                    Lyon        Ligue 1    81     16.1        53.6  84.7\n",
            "22              RB Leipzig     Bundesliga    60     16.0        57.3  83.2\n",
            "23                   Leeds Premier League    62     13.7        55.1  80.8\n",
            "24                West Ham Premier League    62     12.3        44.5  77.8\n",
            "25                 Everton Premier League    47     10.5        47.3  81.4\n",
            "26        Bayer Leverkusen     Bundesliga    53     13.0        57.3  84.4\n",
            "27     Eintracht Frankfurt     Bundesliga    69     13.2        52.4  79.6\n",
            "28                  Monaco        Ligue 1    76     12.8        54.2  82.7\n",
            "29                    Roma        Serie A    68     14.3        51.5  84.5\n",
            "30                 Sevilla         LaLiga    53     12.1        58.7  86.2\n",
            "31     Borussia M.Gladbach     Bundesliga    64     13.4        51.5  82.0\n",
            "32                 Arsenal Premier League    55     12.1        52.7  85.0\n",
            "33                  Rennes        Ligue 1    52     13.5        56.8  85.6\n",
            "34           VfB Stuttgart     Bundesliga    56     13.4        51.5  81.1\n",
            "35 Wolverhampton Wanderers Premier League    36     12.2        49.7  83.2\n",
            "36                Sassuolo        Serie A    64     13.9        58.2  87.8\n",
            "37                    Metz        Ligue 1    44     11.5        46.9  79.8\n",
            "38              Villarreal         LaLiga    60     10.7        54.3  84.4\n",
            "39           Real Sociedad         LaLiga    59     11.3        53.7  80.8\n",
            "40                Brighton Premier League    40     12.8        50.7  81.3\n",
            "41              Real Betis         LaLiga    50     11.7        52.9  82.0\n",
            "42                 Burnley Premier League    33     10.1        43.5  71.6\n",
            "43                    Lens        Ligue 1    55     11.7        51.1  81.8\n",
            "44                   Brest        Ligue 1    50     11.8        49.4  81.3\n",
            "45                  Fulham Premier League    27     11.6        50.0  81.2\n",
            "46               Marseille        Ligue 1    54     10.0        52.4  82.0\n",
            "47               Sampdoria        Serie A    52     11.3        46.1  78.5\n",
            "48             Montpellier        Ligue 1    60     12.2        46.4  78.8\n",
            "49                    Nice        Ligue 1    50     10.8        53.4  85.6\n",
            "50              Hoffenheim     Bundesliga    52     12.6        50.8  80.7\n",
            "51             Southampton Premier League    47     11.2        51.4  79.3\n",
            "52        Newcastle United Premier League    46     10.4        41.6  76.0\n",
            "53                   Lazio        Serie A    61     13.8        52.2  83.8\n",
            "54                  Nantes        Ligue 1    47     10.8        45.2  77.0\n",
            "55            Union Berlin     Bundesliga    50     11.7        45.9  76.2\n",
            "56              Strasbourg        Ligue 1    49     11.3        46.5  78.3\n",
            "57          Crystal Palace Premier League    41      9.2        42.9  76.1\n",
            "58                Freiburg     Bundesliga    52     11.4        47.5  78.1\n",
            "59                Valencia         LaLiga    50     10.3        47.9  79.4\n",
            "60              Celta Vigo         LaLiga    55      9.4        52.0  79.9\n",
            "61                   Reims        Ligue 1    42      9.6        46.3  80.7\n",
            "62                  Torino        Serie A    50     12.2        48.0  80.5\n",
            "63                  Verona        Serie A    43     10.6        49.6  76.3\n",
            "64           Saint-Etienne        Ligue 1    42     11.6        49.0  79.3\n",
            "65                Bordeaux        Ligue 1    42     11.1        50.2  83.3\n",
            "66           Hertha Berlin     Bundesliga    41     11.3        49.8  79.5\n",
            "67                Cagliari        Serie A    43     11.4        45.8  79.8\n",
            "68                Mainz 05     Bundesliga    39     11.1        42.7  71.3\n",
            "69                 Bologna        Serie A    51     13.1        50.7  81.5\n",
            "70                Augsburg     Bundesliga    36      9.9        44.0  73.6\n",
            "71                 Udinese        Serie A    42     10.9        47.2  82.5\n",
            "72               SD Huesca         LaLiga    34     10.7        48.7  79.8\n",
            "73         Athletic Bilbao         LaLiga    46     10.6        49.4  78.5\n",
            "74                 Osasuna         LaLiga    37      9.8        44.6  70.2\n",
            "75                 Lorient        Ligue 1    50     11.2        45.9  78.8\n",
            "76                   Genoa        Serie A    47      9.0        46.1  79.7\n",
            "77       Arminia Bielefeld     Bundesliga    26      9.8        44.1  74.6\n",
            "78                  Angers        Ligue 1    40     10.7        47.1  81.3\n",
            "79                   Eibar         LaLiga    29     11.9        49.2  72.6\n",
            "80           Werder Bremen     Bundesliga    36     10.6        45.2  76.2\n",
            "81              Fiorentina        Serie A    47      9.8        46.8  81.0\n",
            "82                   Nimes        Ligue 1    40     10.3        45.8  77.5\n",
            "83    West Bromwich Albion Premier League    35      8.9        41.0  72.2\n",
            "84                 FC Koln     Bundesliga    34     10.6        47.1  77.3\n",
            "85        Deportivo Alaves         LaLiga    36      9.1        44.6  72.9\n",
            "86                 Levante         LaLiga    46     10.1        51.5  80.1\n",
            "87                  Spezia        Serie A    52     10.2        51.6  81.1\n",
            "88                  Getafe         LaLiga    28      9.5        44.4  66.5\n",
            "89       Parma Calcio 1913        Serie A    39     10.4        48.4  82.5\n",
            "90                   Elche         LaLiga    34      7.1        48.1  81.5\n",
            "91                 Granada         LaLiga    47      9.4        43.4  70.0\n",
            "92                   Cadiz         LaLiga    36      8.0        38.5  68.8\n",
            "93         Real Valladolid         LaLiga    34      9.7        46.2  74.8\n",
            "94        Sheffield United Premier League    20      8.5        43.0  76.9\n",
            "95                 Crotone        Serie A    45      9.5        47.2  80.4\n",
            "96               Benevento        Serie A    40     11.0        44.2  77.7\n",
            "97                   Dijon        Ligue 1    25      9.2        46.9  80.0\n",
            "98              Schalke 04     Bundesliga    25      8.9        46.2  76.5\n",
            "   Rating\n",
            "1    7.01\n",
            "2    6.95\n",
            "3    6.88\n",
            "4    6.87\n",
            "5    6.86\n",
            "6    6.85\n",
            "7    6.85\n",
            "8    6.84\n",
            "9    6.84\n",
            "10   6.84\n",
            "11   6.84\n",
            "12   6.83\n",
            "13   6.82\n",
            "14   6.82\n",
            "15   6.82\n",
            "16   6.81\n",
            "17   6.81\n",
            "18   6.80\n",
            "19   6.80\n",
            "20   6.80\n",
            "21   6.80\n",
            "22   6.78\n",
            "23   6.77\n",
            "24   6.77\n",
            "25   6.73\n",
            "26   6.73\n",
            "27   6.73\n",
            "28   6.73\n",
            "29   6.71\n",
            "30   6.70\n",
            "31   6.70\n",
            "32   6.69\n",
            "33   6.69\n",
            "34   6.68\n",
            "35   6.67\n",
            "36   6.67\n",
            "37   6.66\n",
            "38   6.66\n",
            "39   6.65\n",
            "40   6.65\n",
            "41   6.64\n",
            "42   6.64\n",
            "43   6.64\n",
            "44   6.64\n",
            "45   6.63\n",
            "46   6.63\n",
            "47   6.63\n",
            "48   6.63\n",
            "49   6.63\n",
            "50   6.63\n",
            "51   6.62\n",
            "52   6.62\n",
            "53   6.62\n",
            "54   6.62\n",
            "55   6.62\n",
            "56   6.61\n",
            "57   6.61\n",
            "58   6.60\n",
            "59   6.60\n",
            "60   6.60\n",
            "61   6.60\n",
            "62   6.59\n",
            "63   6.59\n",
            "64   6.59\n",
            "65   6.59\n",
            "66   6.58\n",
            "67   6.58\n",
            "68   6.57\n",
            "69   6.56\n",
            "70   6.56\n",
            "71   6.55\n",
            "72   6.55\n",
            "73   6.54\n",
            "74   6.54\n",
            "75   6.54\n",
            "76   6.54\n",
            "77   6.53\n",
            "78   6.53\n",
            "79   6.53\n",
            "80   6.52\n",
            "81   6.52\n",
            "82   6.52\n",
            "83   6.51\n",
            "84   6.51\n",
            "85   6.50\n",
            "86   6.50\n",
            "87   6.50\n",
            "88   6.49\n",
            "89   6.49\n",
            "90   6.48\n",
            "91   6.47\n",
            "92   6.47\n",
            "93   6.46\n",
            "94   6.46\n",
            "95   6.43\n",
            "96   6.43\n",
            "97   6.42\n",
            "98   6.41\n"
          ]
        }
      ]
    },
    {
      "cell_type": "markdown",
      "metadata": {
        "id": "9Vt4bcjYxHnq"
      },
      "source": [
        "# **Observation globale**\n",
        "\n",
        "---\n",
        "\n",
        "\n",
        "\n",
        "1.   Tableau d'effectif\n",
        "2.   Tableau de contingence\n",
        "3.   Tableau de proportions\n",
        "\n"
      ]
    },
    {
      "cell_type": "markdown",
      "metadata": {
        "id": "j2J-JCZcQ_TM"
      },
      "source": [
        "Nous allons faire une observation globale avant de faire une analyse approfondi."
      ]
    },
    {
      "cell_type": "code",
      "metadata": {
        "colab": {
          "base_uri": "https://localhost:8080/"
        },
        "id": "b5GwXKsq_nPZ",
        "outputId": "150b16a8-cd42-4103-f419-7992cf067355"
      },
      "source": [
        "#Observation globale\n",
        "%%R\n",
        "summary(df)"
      ],
      "execution_count": 12,
      "outputs": [
        {
          "output_type": "stream",
          "name": "stdout",
          "text": [
            "     Team            Tournament            Goals          Shots.pg    \n",
            " Length:98          Length:98          Min.   :20.00   Min.   : 7.10  \n",
            " Class :character   Class :character   1st Qu.:40.25   1st Qu.:10.32  \n",
            " Mode  :character   Mode  :character   Median :50.00   Median :11.45  \n",
            "                                       Mean   :52.18   Mean   :11.85  \n",
            "                                       3rd Qu.:61.75   3rd Qu.:13.35  \n",
            "                                       Max.   :99.00   Max.   :17.10  \n",
            "  Possession.        Pass.           Rating     \n",
            " Min.   :38.50   Min.   :66.50   Min.   :6.410  \n",
            " 1st Qu.:46.23   1st Qu.:78.03   1st Qu.:6.540  \n",
            " Median :49.75   Median :80.80   Median :6.630  \n",
            " Mean   :50.00   Mean   :80.44   Mean   :6.646  \n",
            " 3rd Qu.:52.85   3rd Qu.:83.45   3rd Qu.:6.730  \n",
            " Max.   :62.40   Max.   :89.70   Max.   :7.010  \n"
          ]
        }
      ]
    },
    {
      "cell_type": "code",
      "metadata": {
        "id": "PY4CNj3d9Qhs",
        "colab": {
          "base_uri": "https://localhost:8080/"
        },
        "outputId": "08df10c4-c1c6-4706-c6fd-52fbcbd67ba4"
      },
      "source": [
        "# 1.Tableau d'effectif, nombre d'équipes par championnats\n",
        "%%R\n",
        "eff <-table(df$Tournament)\n",
        "eff"
      ],
      "execution_count": 13,
      "outputs": [
        {
          "output_type": "stream",
          "name": "stdout",
          "text": [
            "\n",
            "    Bundesliga         LaLiga        Ligue 1 Premier League        Serie A \n",
            "            18             20             20             20             20 \n"
          ]
        }
      ]
    },
    {
      "cell_type": "code",
      "metadata": {
        "colab": {
          "base_uri": "https://localhost:8080/"
        },
        "id": "QgYtzSxz93f0",
        "outputId": "fabe159d-e0ea-4ed9-8cc8-2102a17fa418"
      },
      "source": [
        "# 2.Tableau de contingence, savoir dans quel championnat évolue uneéquipe\n",
        "%%R\n",
        "cont<-table(df$Tournament,df$Team)\n",
        "cont"
      ],
      "execution_count": 14,
      "outputs": [
        {
          "output_type": "stream",
          "name": "stdout",
          "text": [
            "                \n",
            "                 AC Milan Angers Arminia Bielefeld Arsenal Aston Villa Atalanta\n",
            "  Bundesliga            0      0                 1       0           0        0\n",
            "  LaLiga                0      0                 0       0           0        0\n",
            "  Ligue 1               0      1                 0       0           0        0\n",
            "  Premier League        0      0                 0       1           1        0\n",
            "  Serie A               1      0                 0       0           0        1\n",
            "                \n",
            "                 Athletic Bilbao Atletico Madrid Augsburg Barcelona\n",
            "  Bundesliga                   0               0        1         0\n",
            "  LaLiga                       1               1        0         1\n",
            "  Ligue 1                      0               0        0         0\n",
            "  Premier League               0               0        0         0\n",
            "  Serie A                      0               0        0         0\n",
            "                \n",
            "                 Bayer Leverkusen Bayern Munich Benevento Bologna Bordeaux\n",
            "  Bundesliga                    1             1         0       0        0\n",
            "  LaLiga                        0             0         0       0        0\n",
            "  Ligue 1                       0             0         0       0        1\n",
            "  Premier League                0             0         0       0        0\n",
            "  Serie A                       0             0         1       1        0\n",
            "                \n",
            "                 Borussia Dortmund Borussia M.Gladbach Brest Brighton Burnley\n",
            "  Bundesliga                     1                   1     0        0       0\n",
            "  LaLiga                         0                   0     0        0       0\n",
            "  Ligue 1                        0                   0     1        0       0\n",
            "  Premier League                 0                   0     0        1       1\n",
            "  Serie A                        0                   0     0        0       0\n",
            "                \n",
            "                 Cadiz Cagliari Celta Vigo Chelsea Crotone Crystal Palace\n",
            "  Bundesliga         0        0          0       0       0              0\n",
            "  LaLiga             1        0          1       0       0              0\n",
            "  Ligue 1            0        0          0       0       0              0\n",
            "  Premier League     0        0          0       1       0              1\n",
            "  Serie A            0        1          0       0       1              0\n",
            "                \n",
            "                 Deportivo Alaves Dijon Eibar Eintracht Frankfurt Elche Everton\n",
            "  Bundesliga                    0     0     0                   1     0       0\n",
            "  LaLiga                        1     0     1                   0     1       0\n",
            "  Ligue 1                       0     1     0                   0     0       0\n",
            "  Premier League                0     0     0                   0     0       1\n",
            "  Serie A                       0     0     0                   0     0       0\n",
            "                \n",
            "                 FC Koln Fiorentina Freiburg Fulham Genoa Getafe Granada\n",
            "  Bundesliga           1          0        1      0     0      0       0\n",
            "  LaLiga               0          0        0      0     0      1       1\n",
            "  Ligue 1              0          0        0      0     0      0       0\n",
            "  Premier League       0          0        0      1     0      0       0\n",
            "  Serie A              0          1        0      0     1      0       0\n",
            "                \n",
            "                 Hertha Berlin Hoffenheim Inter Juventus Lazio Leeds Leicester\n",
            "  Bundesliga                 1          1     0        0     0     0         0\n",
            "  LaLiga                     0          0     0        0     0     0         0\n",
            "  Ligue 1                    0          0     0        0     0     0         0\n",
            "  Premier League             0          0     0        0     0     1         1\n",
            "  Serie A                    0          0     1        1     1     0         0\n",
            "                \n",
            "                 Lens Levante Lille Liverpool Lorient Lyon Mainz 05\n",
            "  Bundesliga        0       0     0         0       0    0        1\n",
            "  LaLiga            0       1     0         0       0    0        0\n",
            "  Ligue 1           1       0     1         0       1    1        0\n",
            "  Premier League    0       0     0         1       0    0        0\n",
            "  Serie A           0       0     0         0       0    0        0\n",
            "                \n",
            "                 Manchester City Manchester United Marseille Metz Monaco\n",
            "  Bundesliga                   0                 0         0    0      0\n",
            "  LaLiga                       0                 0         0    0      0\n",
            "  Ligue 1                      0                 0         1    1      1\n",
            "  Premier League               1                 1         0    0      0\n",
            "  Serie A                      0                 0         0    0      0\n",
            "                \n",
            "                 Montpellier Nantes Napoli Newcastle United Nice Nimes Osasuna\n",
            "  Bundesliga               0      0      0                0    0     0       0\n",
            "  LaLiga                   0      0      0                0    0     0       1\n",
            "  Ligue 1                  1      1      0                0    1     1       0\n",
            "  Premier League           0      0      0                1    0     0       0\n",
            "  Serie A                  0      0      1                0    0     0       0\n",
            "                \n",
            "                 Paris Saint-Germain Parma Calcio 1913 RB Leipzig Real Betis\n",
            "  Bundesliga                       0                 0          1          0\n",
            "  LaLiga                           0                 0          0          1\n",
            "  Ligue 1                          1                 0          0          0\n",
            "  Premier League                   0                 0          0          0\n",
            "  Serie A                          0                 1          0          0\n",
            "                \n",
            "                 Real Madrid Real Sociedad Real Valladolid Reims Rennes Roma\n",
            "  Bundesliga               0             0               0     0      0    0\n",
            "  LaLiga                   1             1               1     0      0    0\n",
            "  Ligue 1                  0             0               0     1      1    0\n",
            "  Premier League           0             0               0     0      0    0\n",
            "  Serie A                  0             0               0     0      0    1\n",
            "                \n",
            "                 Saint-Etienne Sampdoria Sassuolo Schalke 04 SD Huesca Sevilla\n",
            "  Bundesliga                 0         0        0          1         0       0\n",
            "  LaLiga                     0         0        0          0         1       1\n",
            "  Ligue 1                    1         0        0          0         0       0\n",
            "  Premier League             0         0        0          0         0       0\n",
            "  Serie A                    0         1        1          0         0       0\n",
            "                \n",
            "                 Sheffield United Southampton Spezia Strasbourg Torino\n",
            "  Bundesliga                    0           0      0          0      0\n",
            "  LaLiga                        0           0      0          0      0\n",
            "  Ligue 1                       0           0      0          1      0\n",
            "  Premier League                1           1      0          0      0\n",
            "  Serie A                       0           0      1          0      1\n",
            "                \n",
            "                 Tottenham Udinese Union Berlin Valencia Verona VfB Stuttgart\n",
            "  Bundesliga             0       0            1        0      0             1\n",
            "  LaLiga                 0       0            0        1      0             0\n",
            "  Ligue 1                0       0            0        0      0             0\n",
            "  Premier League         1       0            0        0      0             0\n",
            "  Serie A                0       1            0        0      1             0\n",
            "                \n",
            "                 Villarreal Werder Bremen West Bromwich Albion West Ham\n",
            "  Bundesliga              0             1                    0        0\n",
            "  LaLiga                  1             0                    0        0\n",
            "  Ligue 1                 0             0                    0        0\n",
            "  Premier League          0             0                    1        1\n",
            "  Serie A                 0             0                    0        0\n",
            "                \n",
            "                 Wolfsburg Wolverhampton Wanderers\n",
            "  Bundesliga             1                       0\n",
            "  LaLiga                 0                       0\n",
            "  Ligue 1                0                       0\n",
            "  Premier League         0                       1\n",
            "  Serie A                0                       0\n"
          ]
        }
      ]
    },
    {
      "cell_type": "markdown",
      "metadata": {
        "id": "AUKKd8hT-C3q"
      },
      "source": [
        "Ce tableau nous permet de savoir dans quel championnat évolue chaque équipe (1 si l'équipe évolue dans le championnat et 0 si non)."
      ]
    },
    {
      "cell_type": "code",
      "metadata": {
        "colab": {
          "base_uri": "https://localhost:8080/"
        },
        "id": "zbJ3nkW398-c",
        "outputId": "e45ec0da-f67f-41cb-eb87-7a1f4100ffa2"
      },
      "source": [
        "#3.Tableau de proportions\n",
        "%%R\n",
        "prop <- prop.table(table(df$Tournament,df$Team))\n",
        "prop"
      ],
      "execution_count": 15,
      "outputs": [
        {
          "output_type": "stream",
          "name": "stdout",
          "text": [
            "                \n",
            "                   AC Milan     Angers Arminia Bielefeld    Arsenal Aston Villa\n",
            "  Bundesliga     0.00000000 0.00000000        0.01020408 0.00000000  0.00000000\n",
            "  LaLiga         0.00000000 0.00000000        0.00000000 0.00000000  0.00000000\n",
            "  Ligue 1        0.00000000 0.01020408        0.00000000 0.00000000  0.00000000\n",
            "  Premier League 0.00000000 0.00000000        0.00000000 0.01020408  0.01020408\n",
            "  Serie A        0.01020408 0.00000000        0.00000000 0.00000000  0.00000000\n",
            "                \n",
            "                   Atalanta Athletic Bilbao Atletico Madrid   Augsburg\n",
            "  Bundesliga     0.00000000      0.00000000      0.00000000 0.01020408\n",
            "  LaLiga         0.00000000      0.01020408      0.01020408 0.00000000\n",
            "  Ligue 1        0.00000000      0.00000000      0.00000000 0.00000000\n",
            "  Premier League 0.00000000      0.00000000      0.00000000 0.00000000\n",
            "  Serie A        0.01020408      0.00000000      0.00000000 0.00000000\n",
            "                \n",
            "                  Barcelona Bayer Leverkusen Bayern Munich  Benevento\n",
            "  Bundesliga     0.00000000       0.01020408    0.01020408 0.00000000\n",
            "  LaLiga         0.01020408       0.00000000    0.00000000 0.00000000\n",
            "  Ligue 1        0.00000000       0.00000000    0.00000000 0.00000000\n",
            "  Premier League 0.00000000       0.00000000    0.00000000 0.00000000\n",
            "  Serie A        0.00000000       0.00000000    0.00000000 0.01020408\n",
            "                \n",
            "                    Bologna   Bordeaux Borussia Dortmund Borussia M.Gladbach\n",
            "  Bundesliga     0.00000000 0.00000000        0.01020408          0.01020408\n",
            "  LaLiga         0.00000000 0.00000000        0.00000000          0.00000000\n",
            "  Ligue 1        0.00000000 0.01020408        0.00000000          0.00000000\n",
            "  Premier League 0.00000000 0.00000000        0.00000000          0.00000000\n",
            "  Serie A        0.01020408 0.00000000        0.00000000          0.00000000\n",
            "                \n",
            "                      Brest   Brighton    Burnley      Cadiz   Cagliari\n",
            "  Bundesliga     0.00000000 0.00000000 0.00000000 0.00000000 0.00000000\n",
            "  LaLiga         0.00000000 0.00000000 0.00000000 0.01020408 0.00000000\n",
            "  Ligue 1        0.01020408 0.00000000 0.00000000 0.00000000 0.00000000\n",
            "  Premier League 0.00000000 0.01020408 0.01020408 0.00000000 0.00000000\n",
            "  Serie A        0.00000000 0.00000000 0.00000000 0.00000000 0.01020408\n",
            "                \n",
            "                 Celta Vigo    Chelsea    Crotone Crystal Palace\n",
            "  Bundesliga     0.00000000 0.00000000 0.00000000     0.00000000\n",
            "  LaLiga         0.01020408 0.00000000 0.00000000     0.00000000\n",
            "  Ligue 1        0.00000000 0.00000000 0.00000000     0.00000000\n",
            "  Premier League 0.00000000 0.01020408 0.00000000     0.01020408\n",
            "  Serie A        0.00000000 0.00000000 0.01020408     0.00000000\n",
            "                \n",
            "                 Deportivo Alaves      Dijon      Eibar Eintracht Frankfurt\n",
            "  Bundesliga           0.00000000 0.00000000 0.00000000          0.01020408\n",
            "  LaLiga               0.01020408 0.00000000 0.01020408          0.00000000\n",
            "  Ligue 1              0.00000000 0.01020408 0.00000000          0.00000000\n",
            "  Premier League       0.00000000 0.00000000 0.00000000          0.00000000\n",
            "  Serie A              0.00000000 0.00000000 0.00000000          0.00000000\n",
            "                \n",
            "                      Elche    Everton    FC Koln Fiorentina   Freiburg\n",
            "  Bundesliga     0.00000000 0.00000000 0.01020408 0.00000000 0.01020408\n",
            "  LaLiga         0.01020408 0.00000000 0.00000000 0.00000000 0.00000000\n",
            "  Ligue 1        0.00000000 0.00000000 0.00000000 0.00000000 0.00000000\n",
            "  Premier League 0.00000000 0.01020408 0.00000000 0.00000000 0.00000000\n",
            "  Serie A        0.00000000 0.00000000 0.00000000 0.01020408 0.00000000\n",
            "                \n",
            "                     Fulham      Genoa     Getafe    Granada Hertha Berlin\n",
            "  Bundesliga     0.00000000 0.00000000 0.00000000 0.00000000    0.01020408\n",
            "  LaLiga         0.00000000 0.00000000 0.01020408 0.01020408    0.00000000\n",
            "  Ligue 1        0.00000000 0.00000000 0.00000000 0.00000000    0.00000000\n",
            "  Premier League 0.01020408 0.00000000 0.00000000 0.00000000    0.00000000\n",
            "  Serie A        0.00000000 0.01020408 0.00000000 0.00000000    0.00000000\n",
            "                \n",
            "                 Hoffenheim      Inter   Juventus      Lazio      Leeds\n",
            "  Bundesliga     0.01020408 0.00000000 0.00000000 0.00000000 0.00000000\n",
            "  LaLiga         0.00000000 0.00000000 0.00000000 0.00000000 0.00000000\n",
            "  Ligue 1        0.00000000 0.00000000 0.00000000 0.00000000 0.00000000\n",
            "  Premier League 0.00000000 0.00000000 0.00000000 0.00000000 0.01020408\n",
            "  Serie A        0.00000000 0.01020408 0.01020408 0.01020408 0.00000000\n",
            "                \n",
            "                  Leicester       Lens    Levante      Lille  Liverpool\n",
            "  Bundesliga     0.00000000 0.00000000 0.00000000 0.00000000 0.00000000\n",
            "  LaLiga         0.00000000 0.00000000 0.01020408 0.00000000 0.00000000\n",
            "  Ligue 1        0.00000000 0.01020408 0.00000000 0.01020408 0.00000000\n",
            "  Premier League 0.01020408 0.00000000 0.00000000 0.00000000 0.01020408\n",
            "  Serie A        0.00000000 0.00000000 0.00000000 0.00000000 0.00000000\n",
            "                \n",
            "                    Lorient       Lyon   Mainz 05 Manchester City\n",
            "  Bundesliga     0.00000000 0.00000000 0.01020408      0.00000000\n",
            "  LaLiga         0.00000000 0.00000000 0.00000000      0.00000000\n",
            "  Ligue 1        0.01020408 0.01020408 0.00000000      0.00000000\n",
            "  Premier League 0.00000000 0.00000000 0.00000000      0.01020408\n",
            "  Serie A        0.00000000 0.00000000 0.00000000      0.00000000\n",
            "                \n",
            "                 Manchester United  Marseille       Metz     Monaco Montpellier\n",
            "  Bundesliga            0.00000000 0.00000000 0.00000000 0.00000000  0.00000000\n",
            "  LaLiga                0.00000000 0.00000000 0.00000000 0.00000000  0.00000000\n",
            "  Ligue 1               0.00000000 0.01020408 0.01020408 0.01020408  0.01020408\n",
            "  Premier League        0.01020408 0.00000000 0.00000000 0.00000000  0.00000000\n",
            "  Serie A               0.00000000 0.00000000 0.00000000 0.00000000  0.00000000\n",
            "                \n",
            "                     Nantes     Napoli Newcastle United       Nice      Nimes\n",
            "  Bundesliga     0.00000000 0.00000000       0.00000000 0.00000000 0.00000000\n",
            "  LaLiga         0.00000000 0.00000000       0.00000000 0.00000000 0.00000000\n",
            "  Ligue 1        0.01020408 0.00000000       0.00000000 0.01020408 0.01020408\n",
            "  Premier League 0.00000000 0.00000000       0.01020408 0.00000000 0.00000000\n",
            "  Serie A        0.00000000 0.01020408       0.00000000 0.00000000 0.00000000\n",
            "                \n",
            "                    Osasuna Paris Saint-Germain Parma Calcio 1913 RB Leipzig\n",
            "  Bundesliga     0.00000000          0.00000000        0.00000000 0.01020408\n",
            "  LaLiga         0.01020408          0.00000000        0.00000000 0.00000000\n",
            "  Ligue 1        0.00000000          0.01020408        0.00000000 0.00000000\n",
            "  Premier League 0.00000000          0.00000000        0.00000000 0.00000000\n",
            "  Serie A        0.00000000          0.00000000        0.01020408 0.00000000\n",
            "                \n",
            "                 Real Betis Real Madrid Real Sociedad Real Valladolid\n",
            "  Bundesliga     0.00000000  0.00000000    0.00000000      0.00000000\n",
            "  LaLiga         0.01020408  0.01020408    0.01020408      0.01020408\n",
            "  Ligue 1        0.00000000  0.00000000    0.00000000      0.00000000\n",
            "  Premier League 0.00000000  0.00000000    0.00000000      0.00000000\n",
            "  Serie A        0.00000000  0.00000000    0.00000000      0.00000000\n",
            "                \n",
            "                      Reims     Rennes       Roma Saint-Etienne  Sampdoria\n",
            "  Bundesliga     0.00000000 0.00000000 0.00000000    0.00000000 0.00000000\n",
            "  LaLiga         0.00000000 0.00000000 0.00000000    0.00000000 0.00000000\n",
            "  Ligue 1        0.01020408 0.01020408 0.00000000    0.01020408 0.00000000\n",
            "  Premier League 0.00000000 0.00000000 0.00000000    0.00000000 0.00000000\n",
            "  Serie A        0.00000000 0.00000000 0.01020408    0.00000000 0.01020408\n",
            "                \n",
            "                   Sassuolo Schalke 04  SD Huesca    Sevilla Sheffield United\n",
            "  Bundesliga     0.00000000 0.01020408 0.00000000 0.00000000       0.00000000\n",
            "  LaLiga         0.00000000 0.00000000 0.01020408 0.01020408       0.00000000\n",
            "  Ligue 1        0.00000000 0.00000000 0.00000000 0.00000000       0.00000000\n",
            "  Premier League 0.00000000 0.00000000 0.00000000 0.00000000       0.01020408\n",
            "  Serie A        0.01020408 0.00000000 0.00000000 0.00000000       0.00000000\n",
            "                \n",
            "                 Southampton     Spezia Strasbourg     Torino  Tottenham\n",
            "  Bundesliga      0.00000000 0.00000000 0.00000000 0.00000000 0.00000000\n",
            "  LaLiga          0.00000000 0.00000000 0.00000000 0.00000000 0.00000000\n",
            "  Ligue 1         0.00000000 0.00000000 0.01020408 0.00000000 0.00000000\n",
            "  Premier League  0.01020408 0.00000000 0.00000000 0.00000000 0.01020408\n",
            "  Serie A         0.00000000 0.01020408 0.00000000 0.01020408 0.00000000\n",
            "                \n",
            "                    Udinese Union Berlin   Valencia     Verona VfB Stuttgart\n",
            "  Bundesliga     0.00000000   0.01020408 0.00000000 0.00000000    0.01020408\n",
            "  LaLiga         0.00000000   0.00000000 0.01020408 0.00000000    0.00000000\n",
            "  Ligue 1        0.00000000   0.00000000 0.00000000 0.00000000    0.00000000\n",
            "  Premier League 0.00000000   0.00000000 0.00000000 0.00000000    0.00000000\n",
            "  Serie A        0.01020408   0.00000000 0.00000000 0.01020408    0.00000000\n",
            "                \n",
            "                 Villarreal Werder Bremen West Bromwich Albion   West Ham\n",
            "  Bundesliga     0.00000000    0.01020408           0.00000000 0.00000000\n",
            "  LaLiga         0.01020408    0.00000000           0.00000000 0.00000000\n",
            "  Ligue 1        0.00000000    0.00000000           0.00000000 0.00000000\n",
            "  Premier League 0.00000000    0.00000000           0.01020408 0.01020408\n",
            "  Serie A        0.00000000    0.00000000           0.00000000 0.00000000\n",
            "                \n",
            "                  Wolfsburg Wolverhampton Wanderers\n",
            "  Bundesliga     0.01020408              0.00000000\n",
            "  LaLiga         0.00000000              0.00000000\n",
            "  Ligue 1        0.00000000              0.00000000\n",
            "  Premier League 0.00000000              0.01020408\n",
            "  Serie A        0.00000000              0.00000000\n"
          ]
        }
      ]
    },
    {
      "cell_type": "markdown",
      "metadata": {
        "id": "lc7AwyI_-Dtu"
      },
      "source": [
        "Ce tableau nous indique la proportion de chaque équipe (0.1020408) ainsi que dans quel championnat, elle évolue. La somme de toutes les proportions donnent 1, ce qui est cohérent, car une équipe ne peut appartenir qu'à un seul championnat."
      ]
    },
    {
      "cell_type": "markdown",
      "metadata": {
        "id": "t7v3CTa7avPI"
      },
      "source": [
        "# *Analyse entre le nombre de buts marqués et les autres paramètres (variables)*\n",
        "\n",
        "---\n",
        "##Problématique : Existe-il un lien entre le nombre de buts marqués et tous les autres paramètres ? \n",
        "\n",
        "###      **Analyse préliminaire**\n",
        "\n",
        "\n",
        "1.   Moyenne de buts de toutes les équipes tout championnat confondus\n",
        "2.   Écart-type de buts de toutes les équipes tout championnat confondus\n",
        "3.   Médiane de buts de toutes les équipes tout championnat confondus\n",
        "4.   Évaluation de la densité\n",
        "\n",
        "###      **Différents types de visualisations**\n",
        "\n",
        "\n",
        "1.   Histogramme\n",
        "2.   Diagramme en barre\n",
        "3.   Intervalle de confiance\n",
        "\n",
        "\n",
        "###     **Analyse appronfondie**\n",
        "\n",
        "\n",
        "\n",
        "\n",
        "Dans un premier temps, nous ferons plusieurs analyses pour appuyer notre propos.\n",
        "\n",
        "1.   Les 5 meilleurs équipes en terme de buts marqués\n",
        "2.   Les 5 pires équipes en termes de buts marqués\n",
        "\n",
        "\n",
        "\n",
        "> **Remarque**\n",
        "\n",
        "\n",
        "3.   Moyenne des 5 meilleures équipes en terme de buts marqués\n",
        "4.   Moyenne des 5 pires équipes en terme de buts marqués\n",
        "\n",
        "\n",
        "> **Remarque**\n",
        "\n",
        "5.  Nuage de points\n",
        "6.  Droite de regression\n",
        "###   **Conclusion**\n",
        "\n",
        "\n",
        "\n",
        "\n"
      ]
    },
    {
      "cell_type": "code",
      "metadata": {
        "colab": {
          "base_uri": "https://localhost:8080/"
        },
        "id": "4Mt5WLEZ_4eC",
        "outputId": "7db68def-b2d2-4a8f-f435-abc10d00ac3b"
      },
      "source": [
        "# 1.Moyenne de buts de toutes les équipes tout championnat confondu\n",
        "%%R\n",
        "moy <-sapply(df,mean)\n",
        "print(moy[\"Goals\"])\n",
        "\n"
      ],
      "execution_count": 16,
      "outputs": [
        {
          "output_type": "stream",
          "name": "stdout",
          "text": [
            "   Goals \n",
            "52.18367 \n"
          ]
        }
      ]
    },
    {
      "cell_type": "markdown",
      "metadata": {
        "id": "00A4hg0wcp0Y"
      },
      "source": [
        "La moyenne de buts est de 52,18 pour toutes les équipes de tous les championnats confondus."
      ]
    },
    {
      "cell_type": "code",
      "metadata": {
        "colab": {
          "base_uri": "https://localhost:8080/"
        },
        "id": "zWEUkDlQydhM",
        "outputId": "cf9d802b-cef0-4b80-9606-53d077182f3b"
      },
      "source": [
        "# 2.Écart-type de buts de toutes les équipes tout championnat confondu\n",
        "%%R\n",
        "sd <- sapply(df,sd)\n",
        "print(sd[\"Goals\"])\n"
      ],
      "execution_count": 17,
      "outputs": [
        {
          "output_type": "stream",
          "name": "stdout",
          "text": [
            "   Goals \n",
            "16.44569 \n"
          ]
        }
      ]
    },
    {
      "cell_type": "markdown",
      "metadata": {
        "id": "kw0kG4G8tmsR"
      },
      "source": [
        "L'écart-type de buts de toutes les équipes est d'environ 16,5. \n",
        "En moyenne, le nombre de buts de toutes les équipes tout championnat confondus présente un écart d'environ 16.5 buts par rapport à la moyenne.\n"
      ]
    },
    {
      "cell_type": "code",
      "metadata": {
        "colab": {
          "base_uri": "https://localhost:8080/"
        },
        "id": "BQaA3NLqtfUd",
        "outputId": "6a4e862c-42e7-4a35-8e63-59a440c97e39"
      },
      "source": [
        "# 3.Médiane de buts de toutes les équipes tout championnat confondu\n",
        "%%R\n",
        "med <- sapply(df,median)\n",
        "print(med[\"Goals\"])\n"
      ],
      "execution_count": 18,
      "outputs": [
        {
          "output_type": "stream",
          "name": "stdout",
          "text": [
            "Goals \n",
            "   50 \n"
          ]
        }
      ]
    },
    {
      "cell_type": "markdown",
      "metadata": {
        "id": "A4uq7IoltwUv"
      },
      "source": [
        "On constate que 50% des équipes marquent soit 50 buts ou moins, soit marquent 50 buts ou plus."
      ]
    },
    {
      "cell_type": "code",
      "metadata": {
        "colab": {
          "base_uri": "https://localhost:8080/",
          "height": 497
        },
        "id": "mJJhhLiz3MLN",
        "outputId": "434d667b-bb2f-43da-9e6e-39ef7e243149"
      },
      "source": [
        "# 4.Diagramme de densité\n",
        "%%R\n",
        "library(ggplot2)\n",
        "density <- ggplot(df, aes(x = df$Goals))\n",
        "\n",
        "density + geom_density (fill = \"red\") + geom_vline(aes(xintercept = mean(df$Goals)), linetype = \"dashed\") +labs(title=\"Courbe de la densité\",x=\"Buts marqués\", y = \"Density\")\n",
        "\n"
      ],
      "execution_count": 19,
      "outputs": [
        {
          "output_type": "display_data",
          "data": {
            "image/png": "[encoded data removed]"
          },
          "metadata": {}
        }
      ]
    },
    {
      "cell_type": "markdown",
      "metadata": {
        "id": "rETU7RnMUzNG"
      },
      "source": [
        "Cette courbe nous permet d'observer que le pic de densité est atteint à un certain seuil qui s'apparente à la valeur 52-53. Nous avons précédemment calculé la moyenne de buts de toutes les équipes, et avons eu une moyenne de 52,18. Par conséquent, on peut en déduire que le pic de densité correspond à la moyenne de buts de toutes les équipes. "
      ]
    },
    {
      "cell_type": "markdown",
      "metadata": {
        "id": "zkHbMG397J1X"
      },
      "source": [
        " **Nous allons illustrer nos données sous différents types de visualisations pour mieux répondre à notre problématique.**\n",
        "\n",
        "\n"
      ]
    },
    {
      "cell_type": "code",
      "metadata": {
        "colab": {
          "base_uri": "https://localhost:8080/",
          "height": 497
        },
        "id": "s2KlRagg25D4",
        "outputId": "87167a96-4005-4ef4-e4fb-803ba323df01"
      },
      "source": [
        "# 1.Histogramme du nombre de buts\n",
        "%%R\n",
        "hist(df$Goals,col=\"red\",breaks=50,main=\"Histogramme du nombre de  buts\",xlab=\"Buts marqués\",ylab=\"Nombre d'équipes\")"
      ],
      "execution_count": 20,
      "outputs": [
        {
          "output_type": "display_data",
          "data": {
            "image/png": "[encoded data removed]"
          },
          "metadata": {}
        }
      ]
    },
    {
      "cell_type": "markdown",
      "metadata": {
        "id": "Zz13ATObOE3c"
      },
      "source": [
        "Cet histogramme nous permet de visualiser le nombre de buts marqués par toutes les équipes tout championnat confondus.\n",
        "\n",
        "Exemple :\n",
        " \n",
        "--> Une seule équipe marque plus de 99 ou 100 buts , c'est le cas du Bayern Munich\n",
        "\n",
        "--> Une seule équipe marque moins de 20 ou 19 buts , c'est le cas de Sheffield United"
      ]
    },
    {
      "cell_type": "code",
      "metadata": {
        "colab": {
          "base_uri": "https://localhost:8080/"
        },
        "id": "nq5t0jZG-qwL",
        "outputId": "3981c9e6-47b5-45cb-bb85-33025716699d"
      },
      "source": [
        "%%R\n",
        "d <- df %>% top_n(5, Goals)\n",
        "d"
      ],
      "execution_count": 21,
      "outputs": [
        {
          "output_type": "stream",
          "name": "stdout",
          "text": [
            "                 Team Tournament Goals Shots.pg Possession. Pass. Rating\n",
            "1       Bayern Munich Bundesliga    99     17.1        58.1  85.5   6.95\n",
            "2 Paris Saint-Germain    Ligue 1    86     15.0        60.1  89.5   6.88\n",
            "3            Atalanta    Serie A    90     16.3        53.5  83.5   6.84\n",
            "4              Napoli    Serie A    86     17.0        54.1  87.0   6.81\n",
            "5               Inter    Serie A    89     14.5        52.0  87.0   6.80\n"
          ]
        }
      ]
    },
    {
      "cell_type": "code",
      "metadata": {
        "colab": {
          "base_uri": "https://localhost:8080/",
          "height": 497
        },
        "id": "Q-qQ1r1_71TQ",
        "outputId": "276d4608-aec3-4ece-f5ea-4e6231afe574"
      },
      "source": [
        "# 2.Diagramme en barre des cinq meilleures équipes en termes de buts marqués\n",
        "\n",
        "%%R\n",
        "\n",
        "Bar<- ggplot(d,  aes(x=Team, y=Goals))\n",
        "Bar + geom_bar(stat=\"identity\",aes(fill=Team),colour=\"Black\") + \n",
        "  theme( axis.title.x =element_text(colour = 'Black',size=15),\n",
        "        axis.title.y =element_text(colour = 'Black',size=15),\n",
        "        axis.text.x = element_text(colour='red', size=9),\n",
        "        axis.text.y = element_text(colour='red', size=9))\n",
        "\n",
        "\n"
      ],
      "execution_count": 22,
      "outputs": [
        {
          "output_type": "display_data",
          "data": {
            "image/png": "[encoded data removed]"
          },
          "metadata": {}
        }
      ]
    },
    {
      "cell_type": "markdown",
      "metadata": {
        "id": "E3omajJjW6Qc"
      },
      "source": [
        "Ce diagramme en  barre nous affiche le nombre de buts des cinq meilleures équipes. Cela concorde avec les données trouvées précédemment."
      ]
    },
    {
      "cell_type": "markdown",
      "metadata": {
        "id": "xcyRd15JN2Kv"
      },
      "source": [
        "3. **Zoom sur les intervalles de confiances**\n",
        "\n",
        "    3.1   sur une moyenne\n",
        "\n",
        "    3.2   sur une proportion\n",
        "\n",
        "\n",
        "\n",
        "\n"
      ]
    },
    {
      "cell_type": "code",
      "metadata": {
        "colab": {
          "base_uri": "https://localhost:8080/"
        },
        "id": "7k2SqxgON_OF",
        "outputId": "0a046a24-a482-45ed-df5b-dad4742b426a"
      },
      "source": [
        "# 3.1.Intervalle de confiance sur une moyenne\n",
        "%%R\n",
        "t.test(df$Goals, conf.level = 0.95)"
      ],
      "execution_count": 23,
      "outputs": [
        {
          "output_type": "stream",
          "name": "stdout",
          "text": [
            "\n",
            "\tOne Sample t-test\n",
            "\n",
            "data:  df$Goals\n",
            "t = 31.412, df = 97, p-value < 2.2e-16\n",
            "alternative hypothesis: true mean is not equal to 0\n",
            "95 percent confidence interval:\n",
            " 48.88652 55.48083\n",
            "sample estimates:\n",
            "mean of x \n",
            " 52.18367 \n",
            "\n"
          ]
        }
      ]
    },
    {
      "cell_type": "markdown",
      "metadata": {
        "id": "-61Y1LkwZsBa"
      },
      "source": [
        "Notre intervalle de confiance est [0,49; 0,55] au seuil de confiance de 0,95. On peut ainsi dire, que la proportion de buts est concentrée dans l'intervalle [0,49; 0,55] au seuil de confiance de 0,95. "
      ]
    },
    {
      "cell_type": "code",
      "metadata": {
        "colab": {
          "base_uri": "https://localhost:8080/"
        },
        "id": "J6KDg8bvOQMq",
        "outputId": "266744ff-b5f0-45af-b266-ac7ed32ec81b"
      },
      "source": [
        "# 3.2.Intervalle de confiance sur une proportion\n",
        "%%R\n",
        "prop.test(df$Shots.pg,df$Goals)"
      ],
      "execution_count": 24,
      "outputs": [
        {
          "output_type": "stream",
          "name": "stdout",
          "text": [
            "\n",
            "\t98-sample test for equality of proportions without continuity\n",
            "\tcorrection\n",
            "\n",
            "data:  df$Shots.pg out of df$Goals\n",
            "X-squared = 64.706, df = 97, p-value = 0.9952\n",
            "alternative hypothesis: two.sided\n",
            "sample estimates:\n",
            "   prop 1    prop 2    prop 3    prop 4    prop 5    prop 6    prop 7    prop 8 \n",
            "0.1903614 0.1727273 0.1744186 0.1800000 0.2149254 0.1890411 0.2038961 0.2490909 \n",
            "   prop 9   prop 10   prop 11   prop 12   prop 13   prop 14   prop 15   prop 16 \n",
            "0.1946667 0.1805970 0.1811111 0.2517241 0.2352941 0.1986486 0.2000000 0.1720588 \n",
            "  prop 17   prop 18   prop 19   prop 20   prop 21   prop 22   prop 23   prop 24 \n",
            "0.1976744 0.1882353 0.2311475 0.1629213 0.1987654 0.2666667 0.2209677 0.1983871 \n",
            "  prop 25   prop 26   prop 27   prop 28   prop 29   prop 30   prop 31   prop 32 \n",
            "0.2234043 0.2452830 0.1913043 0.1684211 0.2102941 0.2283019 0.2093750 0.2200000 \n",
            "  prop 33   prop 34   prop 35   prop 36   prop 37   prop 38   prop 39   prop 40 \n",
            "0.2596154 0.2392857 0.3388889 0.2171875 0.2613636 0.1783333 0.1915254 0.3200000 \n",
            "  prop 41   prop 42   prop 43   prop 44   prop 45   prop 46   prop 47   prop 48 \n",
            "0.2340000 0.3060606 0.2127273 0.2360000 0.4296296 0.1851852 0.2173077 0.2033333 \n",
            "  prop 49   prop 50   prop 51   prop 52   prop 53   prop 54   prop 55   prop 56 \n",
            "0.2160000 0.2423077 0.2382979 0.2260870 0.2262295 0.2297872 0.2340000 0.2306122 \n",
            "  prop 57   prop 58   prop 59   prop 60   prop 61   prop 62   prop 63   prop 64 \n",
            "0.2243902 0.2192308 0.2060000 0.1709091 0.2285714 0.2440000 0.2465116 0.2761905 \n",
            "  prop 65   prop 66   prop 67   prop 68   prop 69   prop 70   prop 71   prop 72 \n",
            "0.2642857 0.2756098 0.2651163 0.2846154 0.2568627 0.2750000 0.2595238 0.3147059 \n",
            "  prop 73   prop 74   prop 75   prop 76   prop 77   prop 78   prop 79   prop 80 \n",
            "0.2304348 0.2648649 0.2240000 0.1914894 0.3769231 0.2675000 0.4103448 0.2944444 \n",
            "  prop 81   prop 82   prop 83   prop 84   prop 85   prop 86   prop 87   prop 88 \n",
            "0.2085106 0.2575000 0.2542857 0.3117647 0.2527778 0.2195652 0.1961538 0.3392857 \n",
            "  prop 89   prop 90   prop 91   prop 92   prop 93   prop 94   prop 95   prop 96 \n",
            "0.2666667 0.2088235 0.2000000 0.2222222 0.2852941 0.4250000 0.2111111 0.2750000 \n",
            "  prop 97   prop 98 \n",
            "0.3680000 0.3560000 \n",
            "\n"
          ]
        }
      ]
    },
    {
      "cell_type": "markdown",
      "metadata": {
        "id": "0EDoXOF3v8SJ"
      },
      "source": [
        "**Nous allons à présent zoomer sur le nombre de buts marqués et sur les meilleures performances des 5 meilleures et pires équipes.**\n",
        "\n",
        "\n"
      ]
    },
    {
      "cell_type": "code",
      "metadata": {
        "id": "_72jjZFfNRUE"
      },
      "source": [
        "#Création d'une variable qui stocke le data.frame df\n",
        "%%R\n",
        "SortByGoals = data.frame(df)"
      ],
      "execution_count": 25,
      "outputs": []
    },
    {
      "cell_type": "code",
      "metadata": {
        "id": "2DlYPZSgO_qp"
      },
      "source": [
        "#Fonction de tri par ordre décroissant de buts marqués\n",
        "%%R\n",
        "SortByGoals <- SortByGoals[order(SortByGoals$Goals, decreasing = TRUE),]"
      ],
      "execution_count": 26,
      "outputs": []
    },
    {
      "cell_type": "code",
      "metadata": {
        "colab": {
          "base_uri": "https://localhost:8080/"
        },
        "id": "DM6cedGQR2DY",
        "outputId": "68521b9a-6390-4bab-b9da-8a7a9df0aff1"
      },
      "source": [
        "# 1.Les cinq meilleures équipes en terme de buts marqués\n",
        "%%R\n",
        "Bestof5 <- head(SortByGoals,5)\n",
        "Bestof5"
      ],
      "execution_count": 27,
      "outputs": [
        {
          "output_type": "stream",
          "name": "stdout",
          "text": [
            "                  Team Tournament Goals Shots.pg Possession. Pass. Rating\n",
            "2        Bayern Munich Bundesliga    99     17.1        58.1  85.5   6.95\n",
            "11            Atalanta    Serie A    90     16.3        53.5  83.5   6.84\n",
            "20               Inter    Serie A    89     14.5        52.0  87.0   6.80\n",
            "3  Paris Saint-Germain    Ligue 1    86     15.0        60.1  89.5   6.88\n",
            "17              Napoli    Serie A    86     17.0        54.1  87.0   6.81\n"
          ]
        }
      ]
    },
    {
      "cell_type": "code",
      "metadata": {
        "colab": {
          "base_uri": "https://localhost:8080/"
        },
        "id": "_bQ2Et0TXQoV",
        "outputId": "833f6a0b-85cc-4a9b-fbae-b3535fa55e45"
      },
      "source": [
        "# 2.Les cinq pires équipes en termes de buts marqués\n",
        "%%R\n",
        "Worstof5 <- tail(SortByGoals,5)\n",
        "Worstof5"
      ],
      "execution_count": 28,
      "outputs": [
        {
          "output_type": "stream",
          "name": "stdout",
          "text": [
            "                Team     Tournament Goals Shots.pg Possession. Pass. Rating\n",
            "45            Fulham Premier League    27     11.6        50.0  81.2   6.63\n",
            "77 Arminia Bielefeld     Bundesliga    26      9.8        44.1  74.6   6.53\n",
            "97             Dijon        Ligue 1    25      9.2        46.9  80.0   6.42\n",
            "98        Schalke 04     Bundesliga    25      8.9        46.2  76.5   6.41\n",
            "94  Sheffield United Premier League    20      8.5        43.0  76.9   6.46\n"
          ]
        }
      ]
    },
    {
      "cell_type": "markdown",
      "metadata": {
        "id": "AUPxmuqGHIoL"
      },
      "source": [
        "**REMARQUE : Nous avons ici réalisé une analyse sur les 5 meilleurs et pires équipes suivant un critère spécifique : le nombre de buts marqués. On constate une différence entre plusieurs paramètres qui sont : le nombre de tir par match, le pourcentage de possession de balle, la moyenne générale de l'équipe, mais aussi un pourcentage de passe plus réussis.**\n",
        "\n",
        "**Les autres paramètres cités précédemment sont plus élevés lorsqu'on zoome sur la population avec le plus de buts marqués.**"
      ]
    },
    {
      "cell_type": "markdown",
      "metadata": {
        "id": "BbIf7dtuwoWz"
      },
      "source": [
        "**Faisons un zoom sur les moyennes des deux populations pour discuter des résultats**"
      ]
    },
    {
      "cell_type": "code",
      "metadata": {
        "colab": {
          "base_uri": "https://localhost:8080/"
        },
        "id": "5pY6q20_WqGZ",
        "outputId": "957e4111-25b5-4fb3-e113-1da0c0ff08c3"
      },
      "source": [
        "# 3.Moyenne des 5 meilleurs équipes en terme de buts marqués\n",
        "%%R\n",
        "moy <-sapply(Bestof5,mean)\n",
        "print(moy[\"Goals\"])"
      ],
      "execution_count": 29,
      "outputs": [
        {
          "output_type": "stream",
          "name": "stdout",
          "text": [
            "Goals \n",
            "   90 \n"
          ]
        }
      ]
    },
    {
      "cell_type": "code",
      "metadata": {
        "colab": {
          "base_uri": "https://localhost:8080/"
        },
        "id": "zKR3LAjHXMbr",
        "outputId": "7a19bb65-f001-42ff-fe57-d29ed423c247"
      },
      "source": [
        "# 4.Moyenne des 5 pires équipes en terme de buts marqués\n",
        "%%R\n",
        "moy <-sapply(Worstof5,mean)\n",
        "print(moy[\"Goals\"])"
      ],
      "execution_count": 30,
      "outputs": [
        {
          "output_type": "stream",
          "name": "stdout",
          "text": [
            "Goals \n",
            " 24.6 \n"
          ]
        }
      ]
    },
    {
      "cell_type": "markdown",
      "metadata": {
        "id": "VtzwmsfdJljA"
      },
      "source": [
        "**REMARQUE : Il y a une nette différence de buts entre les 5 meilleurs et 5 pires équipes. En effet, lorsque nous observons les moyennes de ces deux populations, on remarque que les meilleures équipes ont une moyenne de buts de 90, tandis que les pires équipes ont une moyenne de buts de 24,6.**"
      ]
    },
    {
      "cell_type": "markdown",
      "metadata": {
        "id": "UiDs9bZJuZGz"
      },
      "source": [
        "**On va se poser la question suivante : Existe-il une corrélation entre le paramètre 'buts marqués' et les autres paramètres ?**\n",
        "\n",
        "**Pour cela, on va réaliser un nuage de point et analyser sa droite de régression.**\n",
        "\n"
      ]
    },
    {
      "cell_type": "code",
      "metadata": {
        "colab": {
          "base_uri": "https://localhost:8080/",
          "height": 497
        },
        "id": "WorhZ4Q3Rx10",
        "outputId": "e1d6dc95-d117-422f-e3e3-8a98e981ade3"
      },
      "source": [
        "# 5.Nuage de point --> Paramètre pris en compte : Buts marqués et Tir par match\n",
        "%%R\n",
        "plot(df$Goals,df$Shots.pg, main = \"Nuage de point\", las=1,xlab=\"Goals\", ylab=\"Tir par match\")\n",
        "\n"
      ],
      "execution_count": 31,
      "outputs": [
        {
          "output_type": "display_data",
          "data": {
            "image/png": "[encoded data removed]"
          },
          "metadata": {}
        }
      ]
    },
    {
      "cell_type": "markdown",
      "metadata": {
        "id": "3_GmnalPb6Wt"
      },
      "source": [
        "L'allure du nuage de points révèle l'existe d'une liaison les deux variables quantitatives (ici buts et nombre de tir). Les variables sont dépendantes l'une de l'autre : elles sont en corrélation. La corrélation est ici positive quand le nombre de tir par match augmente alors le nombre de buts aussi.\n"
      ]
    },
    {
      "cell_type": "code",
      "metadata": {
        "colab": {
          "base_uri": "https://localhost:8080/",
          "height": 533
        },
        "id": "iEe-9UsMXsxC",
        "outputId": "fc6051c4-dbb2-4150-f3dd-975af0016836"
      },
      "source": [
        "# 6.Droite de regreession\n",
        "%%R\n",
        "ggplot(df, aes(x = df$Goals,y=df$Shots.pg)) + geom_point(color='red') +  geom_smooth(method = \"lm\", se = FALSE)\n"
      ],
      "execution_count": 32,
      "outputs": [
        {
          "output_type": "stream",
          "name": "stderr",
          "text": [
            "R[write to console]: `geom_smooth()` using formula 'y ~ x'\n",
            "\n"
          ]
        },
        {
          "output_type": "display_data",
          "data": {
            "image/png": "[encoded data removed]"
          },
          "metadata": {}
        }
      ]
    },
    {
      "cell_type": "markdown",
      "metadata": {
        "id": "QMUr6471yPYp"
      },
      "source": [
        "**Le nuage de points montre bien que les valeurs de notre axe x dépendent des valeurs de l'axe y. On constate une certaine concentration des points dans une zone.**\n",
        "\n",
        "**La tendance des points du nuage montre une relation linéaire positive avec une légère dispersion pour quelques données et une présence de valeurs extrêmes.**"
      ]
    },
    {
      "cell_type": "code",
      "metadata": {
        "colab": {
          "base_uri": "https://localhost:8080/"
        },
        "id": "KFJi--b8S8pB",
        "outputId": "440168c9-e139-45ba-9696-cf4415bbb3c6"
      },
      "source": [
        "%%R\n",
        "MatriceCor <- cor(df$Goals, df$Shots.pg, method = c(\"pearson\"))\n",
        "MatriceCor"
      ],
      "execution_count": 33,
      "outputs": [
        {
          "output_type": "stream",
          "name": "stdout",
          "text": [
            "[1] 0.8296977\n"
          ]
        }
      ]
    },
    {
      "cell_type": "markdown",
      "metadata": {
        "id": "zJvCGfDszKKu"
      },
      "source": [
        "**On déduit que les deux paramètres testés, ici 'Buts marqués' et 'Pourcentage de tir par match' ont un degré de corrélation assez important. Il s'agit d'un accroissement simultané des deux paramètres,car l'axe x (Buts marqués) et l'axe y (Pourcentage de tir par match) évoluent dans le même sens.**"
      ]
    },
    {
      "cell_type": "markdown",
      "metadata": {
        "id": "T42NlEoaxcC1"
      },
      "source": [
        "On peut tester la corrélation entre le paramètre 'Buts marqué' et 'Pourcentage de passe'"
      ]
    },
    {
      "cell_type": "code",
      "metadata": {
        "colab": {
          "base_uri": "https://localhost:8080/",
          "height": 497
        },
        "id": "diKQu7kvLbns",
        "outputId": "45121702-ca28-4563-b1af-9d731df71f0d"
      },
      "source": [
        "# 5.Nuage de point --> Paramètre pris en compte : Buts marqués et Pourcentage de Possessions de balle\n",
        "%%R\n",
        "plot(df$Goals,df$Possession, main = \"Nuage de point\", las=1,xlab=\"Goals\", ylab=\"% de Possession de balle\")\n",
        "\n"
      ],
      "execution_count": 34,
      "outputs": [
        {
          "output_type": "display_data",
          "data": {
            "image/png": "[encoded data removed]"
          },
          "metadata": {}
        }
      ]
    },
    {
      "cell_type": "code",
      "metadata": {
        "colab": {
          "base_uri": "https://localhost:8080/",
          "height": 533
        },
        "id": "WGOq10HqwhgE",
        "outputId": "221a400e-5676-4dc1-a7b7-29a5e09485c6"
      },
      "source": [
        "# 6.Droite de regression\n",
        "%%R\n",
        "ggplot(df, aes(x = df$Goals,y=df$Possession)) + geom_point(color='red') +  geom_smooth(method = \"lm\", se = FALSE)\n"
      ],
      "execution_count": 35,
      "outputs": [
        {
          "output_type": "stream",
          "name": "stderr",
          "text": [
            "R[write to console]: `geom_smooth()` using formula 'y ~ x'\n",
            "\n"
          ]
        },
        {
          "output_type": "display_data",
          "data": {
            "image/png": "[encoded data removed]"
          },
          "metadata": {}
        }
      ]
    },
    {
      "cell_type": "code",
      "metadata": {
        "colab": {
          "base_uri": "https://localhost:8080/"
        },
        "id": "6I3fLeqzLpHh",
        "outputId": "2c2053d6-40cb-4c6c-8538-26369151b34a"
      },
      "source": [
        "%%R\n",
        "MatriceCor <- cor(df$Goals, df$Possession., method = c(\"pearson\"))\n",
        "MatriceCor"
      ],
      "execution_count": 36,
      "outputs": [
        {
          "output_type": "stream",
          "name": "stdout",
          "text": [
            "[1] 0.7178338\n"
          ]
        }
      ]
    },
    {
      "cell_type": "markdown",
      "metadata": {
        "id": "NskQf2aYzDCh"
      },
      "source": [
        "**Même observation qu'auparavant, les nuages de points font apparaître une relation affine forte et positive entre les paramètres 'Buts marqués' et 'Pourcentage de Possessions de balle'.**"
      ]
    },
    {
      "cell_type": "code",
      "metadata": {
        "colab": {
          "base_uri": "https://localhost:8080/"
        },
        "id": "AHoQHKV5LuVJ",
        "outputId": "5b1df529-d2c6-4b50-ef5a-15ccda1c3648"
      },
      "source": [
        "%%R\n",
        "MatriceCor <- cor(df$Goals, df$Pass., method = c(\"pearson\"))\n",
        "MatriceCor"
      ],
      "execution_count": 37,
      "outputs": [
        {
          "output_type": "stream",
          "name": "stdout",
          "text": [
            "[1] 0.6942137\n"
          ]
        }
      ]
    },
    {
      "cell_type": "markdown",
      "metadata": {
        "id": "Fj_VcQ0A1Vat"
      },
      "source": [
        "On peut voir que la corrélation entre les paramètres 'Buts marqués' et 'Pourcentage de passe'  avoisine les 70%."
      ]
    },
    {
      "cell_type": "markdown",
      "metadata": {
        "id": "K0_JlCzevDHx"
      },
      "source": [
        "**CONCLUSION : Lorsque une équipe marque plus de buts, les autres paramètres cités précédemment vont être également plus élevé qu'une équipe qui marque moins de buts. Grace aux nuages de points réalisés, nous avons observé une certaine corrélation entre le nombre de but marqué et la possession de balle, mais aussi le nombre de tirs par match. Pour répondre à la problématique, il existe bel et bien un lien entre le nombre de buts marqués et les autres paramètres (variables).On peut le voir avec les différentes corrélations examinés**."
      ]
    },
    {
      "cell_type": "markdown",
      "metadata": {
        "id": "NKy1CUyXdIP5"
      },
      "source": [
        "\n",
        "# *Analyse sur l'influence entre le pourcentage de possession de balles et le pourcentage de passe réussis et inversement)*\n",
        "\n",
        "---\n",
        "##Problématique : Le pourcentage de passe réussis a t-elle une influence sur le pourcentage de possession de balles ?\n",
        "\n",
        "\n",
        "\n",
        "\n",
        "###      **Analyse préliminaire**\n",
        "\n",
        "0.   Analyse sur les moyennes des deux populations en terme de pourcentage de passe réalisés\n",
        "  \n",
        "  0.a Shapiro-test\n",
        "\n",
        "  0.b Test de l'égalité des variances\n",
        "\n",
        "  0.c Test de Welch\n",
        "\n",
        "###      **Différents types de visualisations**\n",
        "\n",
        "1.   Diagramme Circulaire\n",
        "\n",
        "> Remarque\n",
        "\n",
        "###      **Analyse appronfondi**\n",
        "\n",
        "\n",
        "2. Nuage de points\n",
        "3. Droite de regréssion\n",
        "4. Analyse du résidus\n",
        "\n",
        "\n",
        "\n",
        "###     **Conclusion**\n",
        "\n",
        "\n",
        "\n"
      ]
    },
    {
      "cell_type": "markdown",
      "metadata": {
        "id": "SOZaMgqfH0gK"
      },
      "source": [
        "Dans un premier temps, nous allons examiner la moyenne des deux populations, le poucentage des cinqs meilleurs équipes en terme de possession et les cinqs pires équipes en terme de possession."
      ]
    },
    {
      "cell_type": "code",
      "metadata": {
        "id": "lPe72PBydqkA"
      },
      "source": [
        "# Affectation\n",
        "%%R\n",
        "SortByPercentageOfPass = data.frame(df)"
      ],
      "execution_count": 38,
      "outputs": []
    },
    {
      "cell_type": "code",
      "metadata": {
        "id": "Jj1FbEwsD8Jf"
      },
      "source": [
        "%%R\n",
        "SortByPercentageOfPass <- SortByPercentageOfPass[order(SortByPercentageOfPass$Possession., decreasing = TRUE),]\n"
      ],
      "execution_count": 39,
      "outputs": []
    },
    {
      "cell_type": "code",
      "metadata": {
        "colab": {
          "base_uri": "https://localhost:8080/"
        },
        "id": "GTDWcj9fEVW0",
        "outputId": "72307390-66af-46aa-cf44-8bc2f3528fe5"
      },
      "source": [
        "#Analyse sur les 5 meilleires équipes en terme de pourcentage de passes réalisés \n",
        "%%R\n",
        "Bestof5Pass <- head(SortByPercentageOfPass,5)\n",
        "Bestof5Pass"
      ],
      "execution_count": 40,
      "outputs": [
        {
          "output_type": "stream",
          "name": "stdout",
          "text": [
            "                  Team     Tournament Goals Shots.pg Possession. Pass. Rating\n",
            "4            Barcelona         LaLiga    85     15.3        62.4  89.7   6.87\n",
            "1      Manchester City Premier League    83     15.8        60.8  89.4   7.01\n",
            "3  Paris Saint-Germain        Ligue 1    86     15.0        60.1  89.5   6.88\n",
            "13           Liverpool Premier League    68     16.0        59.0  85.7   6.82\n",
            "30             Sevilla         LaLiga    53     12.1        58.7  86.2   6.70\n"
          ]
        }
      ]
    },
    {
      "cell_type": "code",
      "metadata": {
        "colab": {
          "base_uri": "https://localhost:8080/"
        },
        "id": "bbGfLtgPFrTs",
        "outputId": "f849e2d2-e4d0-4733-c6c3-ec063500657f"
      },
      "source": [
        "#Analyse sur les 5 pires équipes en terme de pourcentage de passes réalisés \n",
        "%%R\n",
        "Worstof5Pass <- tail(SortByPercentageOfPass,5)\n",
        "Worstof5Pass"
      ],
      "execution_count": 41,
      "outputs": [
        {
          "output_type": "stream",
          "name": "stdout",
          "text": [
            "                   Team     Tournament Goals Shots.pg Possession. Pass. Rating\n",
            "57       Crystal Palace Premier League    41      9.2        42.9  76.1   6.61\n",
            "68             Mainz 05     Bundesliga    39     11.1        42.7  71.3   6.57\n",
            "52     Newcastle United Premier League    46     10.4        41.6  76.0   6.62\n",
            "83 West Bromwich Albion Premier League    35      8.9        41.0  72.2   6.51\n",
            "92                Cadiz         LaLiga    36      8.0        38.5  68.8   6.47\n"
          ]
        }
      ]
    },
    {
      "cell_type": "markdown",
      "metadata": {
        "id": "i-gcv-B8qlKP"
      },
      "source": [
        "**Réalisation du shapiro.test pour savoir si notre série de données suit une loi normale.**"
      ]
    },
    {
      "cell_type": "code",
      "metadata": {
        "id": "bMHt8isaQoM0",
        "colab": {
          "base_uri": "https://localhost:8080/"
        },
        "outputId": "897aca78-81f4-4b92-e3b5-d44e9d2221e2"
      },
      "source": [
        "# 0.a.Shapiro test\n",
        "%%R\n",
        "shapiro.test(df$Possession.)"
      ],
      "execution_count": 42,
      "outputs": [
        {
          "output_type": "stream",
          "name": "stdout",
          "text": [
            "\n",
            "\tShapiro-Wilk normality test\n",
            "\n",
            "data:  df$Possession.\n",
            "W = 0.98437, p-value = 0.2986\n",
            "\n"
          ]
        }
      ]
    },
    {
      "cell_type": "markdown",
      "metadata": {
        "id": "bReKLq41RGCS"
      },
      "source": [
        "**On peut voir ici qu’en appliquant la loi de Shapiro,la p-value est supérieur à alpha (0.05).Par conséquent, elle renvoie une p-value non significative. L'échantillon peut suivre une loi normale.**"
      ]
    },
    {
      "cell_type": "markdown",
      "metadata": {
        "id": "NPMb76CdBEyw"
      },
      "source": [
        "**On va maintenant tester l'égalité des variances**"
      ]
    },
    {
      "cell_type": "code",
      "metadata": {
        "colab": {
          "base_uri": "https://localhost:8080/"
        },
        "id": "RvLVCZz0yNNW",
        "outputId": "a1bf5564-fc7b-4786-9b71-8912bfa8744c"
      },
      "source": [
        "# 0.b. Test de l'égalité des variances\n",
        "%%R\n",
        "varPo <- var(df$Possession.)\n",
        "varPo"
      ],
      "execution_count": 43,
      "outputs": [
        {
          "output_type": "stream",
          "name": "stdout",
          "text": [
            "[1] 23.91277\n"
          ]
        }
      ]
    },
    {
      "cell_type": "code",
      "metadata": {
        "colab": {
          "base_uri": "https://localhost:8080/"
        },
        "id": "ixEkT78py6kx",
        "outputId": "1711e79d-5e58-46f9-8b75-84ad713a6c2e"
      },
      "source": [
        "%%R\n",
        "varPa <-var(df$Pass.)\n",
        "varPa"
      ],
      "execution_count": 44,
      "outputs": [
        {
          "output_type": "stream",
          "name": "stdout",
          "text": [
            "[1] 21.99772\n"
          ]
        }
      ]
    },
    {
      "cell_type": "markdown",
      "metadata": {
        "id": "2fDuDTgvDPLa"
      },
      "source": [
        "Les variances ne sont pas égales, on va donc faire le test de Welch."
      ]
    },
    {
      "cell_type": "code",
      "metadata": {
        "id": "sRV0EXja1UwZ"
      },
      "source": [
        "%%R\n",
        "df2 <- data.frame(dataset)"
      ],
      "execution_count": 45,
      "outputs": []
    },
    {
      "cell_type": "code",
      "metadata": {
        "id": "Wguyq9n11r9F"
      },
      "source": [
        "%%R\n",
        "df2 <- Filter(is.numeric, dataset)\n"
      ],
      "execution_count": 46,
      "outputs": []
    },
    {
      "cell_type": "code",
      "metadata": {
        "id": "Ti72Nzbl2lyD"
      },
      "source": [
        "%%R\n",
        "df2 <- subset( df2, select = -c(yellow_cards, red_cards, AerialsWon,Pass.,Rating,Goals,Shots.pg))\n",
        "\n"
      ],
      "execution_count": 47,
      "outputs": []
    },
    {
      "cell_type": "code",
      "metadata": {
        "id": "fakw1rDn3RnY"
      },
      "source": [
        "%%R\n",
        "SortByPercentageOfPossession <- df2[order(SortByPercentageOfPass$Possession., decreasing = TRUE),]\n",
        "\n"
      ],
      "execution_count": 48,
      "outputs": []
    },
    {
      "cell_type": "code",
      "metadata": {
        "colab": {
          "base_uri": "https://localhost:8080/"
        },
        "id": "cuOt4nDg3nSJ",
        "outputId": "9336e804-b442-4842-d625-54e5e6ecbb1b"
      },
      "source": [
        "%%R\n",
        "BestPossession <- head(SortByPercentageOfPossession,5)\n",
        "BestPossession"
      ],
      "execution_count": 49,
      "outputs": [
        {
          "output_type": "stream",
          "name": "stdout",
          "text": [
            "[1] 60.8 58.1 60.1 62.4 57.7\n"
          ]
        }
      ]
    },
    {
      "cell_type": "code",
      "metadata": {
        "colab": {
          "base_uri": "https://localhost:8080/"
        },
        "id": "y4mkxtoQ4Vy7",
        "outputId": "8a328e37-7137-4742-8ef6-e273c4c9a72d"
      },
      "source": [
        "%%R\n",
        "WorstPossession <- tail(SortByPercentageOfPossession,5)\n",
        "WorstPossession"
      ],
      "execution_count": 50,
      "outputs": [
        {
          "output_type": "stream",
          "name": "stdout",
          "text": [
            "[1] 43.0 47.2 44.2 46.9 46.2\n"
          ]
        }
      ]
    },
    {
      "cell_type": "code",
      "metadata": {
        "colab": {
          "base_uri": "https://localhost:8080/"
        },
        "id": "WXRTWVx_zCgb",
        "outputId": "5ba0e1c3-310c-45d4-91c1-c1a2e3931690"
      },
      "source": [
        "# 0.c.Test de Welch \n",
        "%%R\n",
        "t.test(BestPossession, WorstPossession)"
      ],
      "execution_count": 51,
      "outputs": [
        {
          "output_type": "stream",
          "name": "stdout",
          "text": [
            "\n",
            "\tWelch Two Sample t-test\n",
            "\n",
            "data:  BestPossession and WorstPossession\n",
            "t = 12.011, df = 7.9656, p-value = 2.207e-06\n",
            "alternative hypothesis: true difference in means is not equal to 0\n",
            "95 percent confidence interval:\n",
            " 11.56866 17.07134\n",
            "sample estimates:\n",
            "mean of x mean of y \n",
            "    59.82     45.50 \n",
            "\n"
          ]
        }
      ]
    },
    {
      "cell_type": "markdown",
      "metadata": {
        "id": "ezLElj-Z7wtZ"
      },
      "source": [
        "On constate que la moyenne des deux populations est assez différente. En effet, les meilleures cinq équipes équipes ont une possession de 60,20, et les cinq pires équipes ont une possession de 41,34, ce qui est assez faible. "
      ]
    },
    {
      "cell_type": "code",
      "metadata": {
        "colab": {
          "base_uri": "https://localhost:8080/"
        },
        "id": "q0eu1XufBkU6",
        "outputId": "f856587f-9a95-4861-d971-1fb295528fad"
      },
      "source": [
        "# 1.Diagramme circulaire sur les 5 meilleurs équipes en termes de buts marqués\n",
        "%%R\n",
        "d <- df %>% top_n(5, Goals)\n",
        "d\n"
      ],
      "execution_count": 52,
      "outputs": [
        {
          "output_type": "stream",
          "name": "stdout",
          "text": [
            "                 Team Tournament Goals Shots.pg Possession. Pass. Rating\n",
            "1       Bayern Munich Bundesliga    99     17.1        58.1  85.5   6.95\n",
            "2 Paris Saint-Germain    Ligue 1    86     15.0        60.1  89.5   6.88\n",
            "3            Atalanta    Serie A    90     16.3        53.5  83.5   6.84\n",
            "4              Napoli    Serie A    86     17.0        54.1  87.0   6.81\n",
            "5               Inter    Serie A    89     14.5        52.0  87.0   6.80\n"
          ]
        }
      ]
    },
    {
      "cell_type": "markdown",
      "metadata": {
        "id": "49mUPyIyLoVB"
      },
      "source": [
        "On affecte à la fonction d les 5 meilleurs équipes en termes de buts marqués."
      ]
    },
    {
      "cell_type": "code",
      "metadata": {
        "colab": {
          "base_uri": "https://localhost:8080/",
          "height": 497
        },
        "id": "DPAPjqSECskf",
        "outputId": "3a210ee6-59b5-4517-d237-133dbe953c27"
      },
      "source": [
        "# 1.a. Diagramme circulaire\n",
        "%%R\n",
        "ggplot(data = d, aes(x = Possession., y = Team, fill = Possession.)) + geom_bar(stat = \"identity\") +  coord_polar(\"y\")"
      ],
      "execution_count": 53,
      "outputs": [
        {
          "output_type": "display_data",
          "data": {
            "image/png": "[encoded data removed]"
          },
          "metadata": {}
        }
      ]
    },
    {
      "cell_type": "markdown",
      "metadata": {
        "id": "pnUtVMq_XzLP"
      },
      "source": [
        "**Ce diagramme circulaire nous affiche le pourcentage de passes des cinq meilleures équipes. On constate que le Paris-Saint-Germain est l'équipe avec le plus de possession de balles, mais aussi qui a le pourcentage de passe le plus réussi. On peut donc émettre l'hypothèse que le pourcentage de passe réussi influe sur le pourcentage de possessions de balles.**"
      ]
    },
    {
      "cell_type": "markdown",
      "metadata": {
        "id": "OqM5atDNpG_F"
      },
      "source": [
        "**REMARQUE : Les équipes qui ont un score élevé en pourcentage de possession font beaucoup plus circuler la balle.**"
      ]
    },
    {
      "cell_type": "code",
      "metadata": {
        "colab": {
          "base_uri": "https://localhost:8080/",
          "height": 497
        },
        "id": "LnugHVNqIKNB",
        "outputId": "284ec436-d1ff-429f-e7e4-83d6a33a9bae"
      },
      "source": [
        "# 3.Nuage de point --> Paramètre pris en compte : Pourcentage en possession de balle et pourcentage de passes réussis.\n",
        "%%R\n",
        "plot(df$Possession.,df$Pass., main = \"Nuage de point\", las=1,xlab=\"%Possession\", ylab=\"%Passes réussis\")\n",
        "\n"
      ],
      "execution_count": 54,
      "outputs": [
        {
          "output_type": "display_data",
          "data": {
            "image/png": "[encoded data removed]"
          },
          "metadata": {}
        }
      ]
    },
    {
      "cell_type": "code",
      "metadata": {
        "colab": {
          "base_uri": "https://localhost:8080/",
          "height": 533
        },
        "id": "qIMU7XfIIoPE",
        "outputId": "5ca545a1-2c2e-4b64-920d-95ce3f280a74"
      },
      "source": [
        "# 4.Droite de regression\n",
        "%%R\n",
        "ggplot(df, aes(x = df$Possession.,y=df$Pass.)) + geom_point(color='red') +  geom_smooth(method = \"lm\", se = FALSE)\n"
      ],
      "execution_count": 55,
      "outputs": [
        {
          "output_type": "stream",
          "name": "stderr",
          "text": [
            "R[write to console]: `geom_smooth()` using formula 'y ~ x'\n",
            "\n"
          ]
        },
        {
          "output_type": "display_data",
          "data": {
            "image/png": "[encoded data removed]"
          },
          "metadata": {}
        }
      ]
    },
    {
      "cell_type": "markdown",
      "metadata": {
        "id": "IEMut7gQOiSj"
      },
      "source": [
        "Le nuage de points observé s'apparente à une droite croissante et révèle l'existence d'une liaison entre nos deux paramètres.\n",
        "Le pourcentage de passes réussis et la possession de balle semblent entre dépendante l'une de l'autre. Notre hypothèse se confirme, il existe une forte corrélation entre nos deux paramètres.\n",
        "\n"
      ]
    },
    {
      "cell_type": "code",
      "metadata": {
        "colab": {
          "base_uri": "https://localhost:8080/"
        },
        "id": "mjfVgMJ9Eh17",
        "outputId": "251e1a56-d2a9-481a-895a-90ab36df184b"
      },
      "source": [
        "%%R\n",
        "cor(df$Possession.,df$Pass.)\n"
      ],
      "execution_count": 56,
      "outputs": [
        {
          "output_type": "stream",
          "name": "stdout",
          "text": [
            "[1] 0.8514583\n"
          ]
        }
      ]
    },
    {
      "cell_type": "markdown",
      "metadata": {
        "id": "whJBCVRQOigm"
      },
      "source": [
        "Le coefficient de corrélation suit notre raisonnement précèdent. À partir de notre coefficient de corrélation, on peut dire que nos paramètres montre une forte relation linéaire ascendante.\n",
        "\n"
      ]
    },
    {
      "cell_type": "markdown",
      "metadata": {
        "id": "o7VSGTRiOqcu"
      },
      "source": [
        "**Analysons à présent les résidus, c'est-à-dire, les valeurs qui sont à l'écart**"
      ]
    },
    {
      "cell_type": "code",
      "metadata": {
        "colab": {
          "base_uri": "https://localhost:8080/"
        },
        "id": "l9O9p8izLpDi",
        "outputId": "b0410ecf-5bd7-4e3f-a356-854e182eb8d9"
      },
      "source": [
        "# 5.Analyse du résidus --> Formule\n",
        "%%R\n",
        "beta1 <- cov(df$Pass.,df$Possession.)/var(df$Pass.)\n",
        "beta0 <- mean(df$Possession.) - beta1*mean(df$Pass.)\n",
        "print(beta1)\n",
        "print(beta0)"
      ],
      "execution_count": 57,
      "outputs": [
        {
          "output_type": "stream",
          "name": "stdout",
          "text": [
            "[1] 0.8877476\n",
            "[1] -21.41613\n"
          ]
        }
      ]
    },
    {
      "cell_type": "code",
      "metadata": {
        "colab": {
          "base_uri": "https://localhost:8080/"
        },
        "id": "8yLbcu7OTyXK",
        "outputId": "d0b62769-d2c1-457c-a070-08e8cc555236"
      },
      "source": [
        "# 5.Analyse du résidus --> Modèle\n",
        "%%R\n",
        "mod1 <- lm(df$Possession.~df$Pass.)\n",
        "coef(mod1)"
      ],
      "execution_count": 58,
      "outputs": [
        {
          "output_type": "stream",
          "name": "stdout",
          "text": [
            "(Intercept)    df$Pass. \n",
            "-21.4161299   0.8877476 \n"
          ]
        }
      ]
    },
    {
      "cell_type": "code",
      "metadata": {
        "colab": {
          "base_uri": "https://localhost:8080/"
        },
        "id": "_dEzCcEXLN6x",
        "outputId": "2ed814b7-7c02-4bd2-b3af-e2158b11580a"
      },
      "source": [
        "# 5.Analyse du résidus --> Valeurs des deux tableaux\n",
        "%%R\n",
        "str(df$Possession.)\n",
        "str(df$Pass.)"
      ],
      "execution_count": 59,
      "outputs": [
        {
          "output_type": "stream",
          "name": "stdout",
          "text": [
            " num [1:98] 60.8 58.1 60.1 62.4 57.7 54.5 55.4 49.1 57.5 51.8 ...\n",
            " num [1:98] 89.4 85.5 89.5 89.7 87.7 84.8 88.3 78.6 85.5 83.1 ...\n"
          ]
        }
      ]
    },
    {
      "cell_type": "code",
      "metadata": {
        "colab": {
          "base_uri": "https://localhost:8080/"
        },
        "id": "8TojnxhHM4ci",
        "outputId": "c43e9530-1c6a-44a9-8531-c5b44389c141"
      },
      "source": [
        "# 5.Analyse du résidus --> Prédiction des valeurs\n",
        "%%R\n",
        "fitted.values(mod1)"
      ],
      "execution_count": 60,
      "outputs": [
        {
          "output_type": "stream",
          "name": "stdout",
          "text": [
            "       1        2        3        4        5        6        7        8 \n",
            "57.94851 54.48629 58.03728 58.21483 56.43934 53.86487 56.97198 48.36083 \n",
            "       9       10       11       12       13       14       15       16 \n",
            "54.48629 52.35570 52.71080 55.81791 54.66384 53.15467 52.71080 51.20162 \n",
            "      17       18       19       20       21       22       23       24 \n",
            "55.81791 51.46795 47.82818 55.81791 53.77609 52.44447 50.31388 47.65063 \n",
            "      25       26       27       28       29       30       31       32 \n",
            "50.84653 53.50977 49.24858 52.00060 53.59854 55.10771 51.37917 54.04242 \n",
            "      33       34       35       36       37       38       39       40 \n",
            "54.57507 50.58020 52.44447 56.52811 49.42613 53.50977 50.31388 50.75775 \n",
            "      41       42       43       44       45       46       47       48 \n",
            "51.37917 42.14660 51.20162 50.75775 50.66898 51.37917 48.27206 48.53838 \n",
            "      49       50       51       52       53       54       55       56 \n",
            "54.57507 50.22510 48.98226 46.05269 52.97712 46.94044 46.23024 48.09451 \n",
            "      57       58       59       60       61       62       63       64 \n",
            "46.14146 47.91696 49.07103 49.51490 50.22510 50.04755 46.31901 48.98226 \n",
            "      65       66       67       68       69       70       71       72 \n",
            "52.53325 49.15981 49.42613 41.88027 50.93530 43.92209 51.82305 49.42613 \n",
            "      73       74       75       76       77       78       79       80 \n",
            "48.27206 40.90375 48.53838 49.33735 44.80984 50.75775 43.03435 46.23024 \n",
            "      81       82       83       84       85       86       87       88 \n",
            "50.49143 47.38431 42.67925 47.20676 43.30067 49.69245 50.58020 37.61909 \n",
            "      89       90       91       92       93       94       95       96 \n",
            "51.82305 50.93530 40.72620 39.66091 44.98739 46.85166 49.95878 47.56186 \n",
            "      97       98 \n",
            "49.60368 46.49656 \n"
          ]
        }
      ]
    },
    {
      "cell_type": "code",
      "metadata": {
        "colab": {
          "base_uri": "https://localhost:8080/"
        },
        "id": "vl1PbrGmMY1Z",
        "outputId": "b02877f3-8d3e-4050-8790-5b7fa872e3f4"
      },
      "source": [
        "# 5.Analyse du résidus --> Tableau de résidus, des écarts\n",
        "%%R\n",
        "residuals(mod1)"
      ],
      "execution_count": 61,
      "outputs": [
        {
          "output_type": "stream",
          "name": "stdout",
          "text": [
            "          1           2           3           4           5           6 \n",
            " 2.85149361  3.61370929  2.06271885  4.18516933  1.26066455  0.63513261 \n",
            "          7           8           9          10          11          12 \n",
            "-1.57198402  0.73916779  3.01370929 -0.55569645  0.78920451  2.78208787 \n",
            "         13          14          15          16          17          18 \n",
            " 4.33615977 -1.75466930 -0.11079549  0.09837544 -1.71791213  1.73205116 \n",
            "         19          20          21          22          23          24 \n",
            " 3.17181636 -3.81791213 -0.17609263  4.85552879  4.78612305 -3.15063412 \n",
            "         25          26          27          28          29          30 \n",
            "-3.54652552  3.79023166  3.15142018  2.19940259 -2.09854310  3.59228596 \n",
            "         31          32          33          34          35          36 \n",
            " 0.12082592 -1.34241691  2.22493453  0.91979877 -2.74447121  1.67188979 \n",
            "         37          38          39          40          41          42 \n",
            "-2.52612934  0.79023166  3.38612305 -0.05775075  1.52082592  1.35340105 \n",
            "         43          44          45          46          47          48 \n",
            "-0.10162456 -1.35775075 -0.66897599  1.02082592 -2.17205745 -2.13838173 \n",
            "         49          50          51          52          53          54 \n",
            "-1.17506547  0.57489781  2.41774446 -4.45268843 -0.77711978 -1.74043603 \n",
            "         55          56          57          58          59          60 \n",
            "-0.33023795 -1.59450793 -3.24146319 -0.41695841 -1.17103030  2.48509590 \n",
            "         61          62          63          64          65          66 \n",
            "-3.92510219 -2.04755267  3.28098729  0.01774446 -2.33324597  0.64019494 \n",
            "         67          68          69          70          71          72 \n",
            "-3.62612934  0.81972534 -0.23530028  0.07790584 -4.62304789 -0.72612934 \n",
            "         73          74          75          76          77          78 \n",
            " 1.12794255  3.69624771 -2.63838173 -3.23735458 -0.70984177 -3.65775075 \n",
            "         79          80          81          82          83          84 \n",
            " 6.16565345 -1.03023795 -3.69142647 -1.58430984 -1.67924751 -0.10676032 \n",
            "         85          86          87          88          89          90 \n",
            " 1.29932916  1.80754638  1.01979877  6.78091386 -3.42304789 -2.83530028 \n",
            "         91          92          93          94          95          96 \n",
            " 2.67379723 -1.16090564  1.21260871 -3.85166127 -2.75877791 -3.36185936 \n",
            "         97          98 \n",
            "-2.70367886 -0.29656223 \n"
          ]
        }
      ]
    },
    {
      "cell_type": "code",
      "metadata": {
        "colab": {
          "base_uri": "https://localhost:8080/",
          "height": 497
        },
        "id": "qnll7JaZVHiz",
        "outputId": "872ccd5f-ae89-4fd2-ee8d-ff28b4ecaaf7"
      },
      "source": [
        "# 5.Analyse du résidus --> Répartition des écarts dans un nuage de points\n",
        "\n",
        "%%R\n",
        "plot(residuals(mod1))\n"
      ],
      "execution_count": 62,
      "outputs": [
        {
          "output_type": "display_data",
          "data": {
            "image/png": "[encoded data removed]"
          },
          "metadata": {}
        }
      ]
    },
    {
      "cell_type": "markdown",
      "metadata": {
        "id": "G_p-G5YPq74d"
      },
      "source": [
        "On constate des valeurs extrêmes dans ce nuage de point, les points sont globalement présent dans l'intervalle [-2;4]. Cela se justifie par le coefficient de corrélation obtenu : 0,85. Il est donc logique que la majorité des points soient concentrés dans l'intervalle citée précédemment."
      ]
    },
    {
      "cell_type": "code",
      "metadata": {
        "colab": {
          "base_uri": "https://localhost:8080/"
        },
        "id": "8DLJsjAxLVvA",
        "outputId": "d209bc85-fafa-4e6c-babc-ef4f11119a9c"
      },
      "source": [
        "# 5.Analyse du résidus --> Application du calcul avec les troisièmes valeurs du tableau df$Possessions. et df$Pass.\n",
        "%%R\n",
        "beta1*89.5 + beta0"
      ],
      "execution_count": 63,
      "outputs": [
        {
          "output_type": "stream",
          "name": "stdout",
          "text": [
            "[1] 58.03728\n"
          ]
        }
      ]
    },
    {
      "cell_type": "code",
      "metadata": {
        "colab": {
          "base_uri": "https://localhost:8080/"
        },
        "id": "YcOlVx54L-Ky",
        "outputId": "7b4e62f2-e8fd-4aca-e7a6-d91b1f2620ca"
      },
      "source": [
        "# 5.Analyse du résidus --> Vérification à la main du résulat obtenu par rapport à la troisième valeur du tableau résiduals.\n",
        "\n",
        "#60.1 VALEUR OBSERVE DANS LE TABLEAU - VALEUR OBTENUS SUITE AU CALCUL\n",
        "60.1 - 58.03728"
      ],
      "execution_count": 64,
      "outputs": [
        {
          "output_type": "execute_result",
          "data": {
            "text/plain": [
              "2.0627199999999988"
            ]
          },
          "metadata": {},
          "execution_count": 64
        }
      ]
    },
    {
      "cell_type": "markdown",
      "metadata": {
        "id": "hyNTvBsJOTAw"
      },
      "source": [
        "On retrouve bien l'écart attendu dans le tableau residuals."
      ]
    },
    {
      "cell_type": "markdown",
      "metadata": {
        "id": "ekkLSyj8vBof"
      },
      "source": [
        "**CONCLUSION : Ainsi, nous constatons bel et bien que le pourcentage de passes réussis influe sur le pourcentage de possessions de balles. En effet, les deux paramètres sont liés, on a vu que plus le pourcentage de passes réussis était élevé plus le pourcentage de possession de balles avec l'exemple du Paris-Saint-Germain.**\n",
        "**\n",
        "\n"
      ]
    },
    {
      "cell_type": "code",
      "metadata": {
        "id": "g1f4BdHzJOEu"
      },
      "source": [
        ""
      ],
      "execution_count": 64,
      "outputs": []
    }
  ]
}